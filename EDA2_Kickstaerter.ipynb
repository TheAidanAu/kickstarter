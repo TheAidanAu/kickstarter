{
 "cells": [
  {
   "cell_type": "code",
   "execution_count": 86,
   "id": "4746d0cd",
   "metadata": {},
   "outputs": [],
   "source": [
    "import numpy as np\n",
    "import pandas as pd\n",
    "import matplotlib.pyplot as plt \n",
    "import seaborn as sns\n",
    "%matplotlib inline\n",
    "from datetime import datetime\n",
    "import time "
   ]
  },
  {
   "cell_type": "markdown",
   "id": "b4225018",
   "metadata": {},
   "source": [
    "## Load the data\n",
    "From Kaggle and data dictionary is in the link too\n",
    "https://www.kaggle.com/kemical/kickstarter-projects"
   ]
  },
  {
   "cell_type": "code",
   "execution_count": 87,
   "id": "1097581e",
   "metadata": {},
   "outputs": [],
   "source": [
    "df_raw = pd.read_csv('ks-projects-201801.csv')"
   ]
  },
  {
   "cell_type": "markdown",
   "id": "72ebf006",
   "metadata": {},
   "source": [
    "## Examine the data"
   ]
  },
  {
   "cell_type": "code",
   "execution_count": 88,
   "id": "d28832f1",
   "metadata": {},
   "outputs": [
    {
     "data": {
      "text/html": [
       "<div>\n",
       "<style scoped>\n",
       "    .dataframe tbody tr th:only-of-type {\n",
       "        vertical-align: middle;\n",
       "    }\n",
       "\n",
       "    .dataframe tbody tr th {\n",
       "        vertical-align: top;\n",
       "    }\n",
       "\n",
       "    .dataframe thead th {\n",
       "        text-align: right;\n",
       "    }\n",
       "</style>\n",
       "<table border=\"1\" class=\"dataframe\">\n",
       "  <thead>\n",
       "    <tr style=\"text-align: right;\">\n",
       "      <th></th>\n",
       "      <th>ID</th>\n",
       "      <th>name</th>\n",
       "      <th>category</th>\n",
       "      <th>main_category</th>\n",
       "      <th>currency</th>\n",
       "      <th>deadline</th>\n",
       "      <th>goal</th>\n",
       "      <th>launched</th>\n",
       "      <th>pledged</th>\n",
       "      <th>state</th>\n",
       "      <th>backers</th>\n",
       "      <th>country</th>\n",
       "      <th>usd pledged</th>\n",
       "      <th>usd_pledged_real</th>\n",
       "      <th>usd_goal_real</th>\n",
       "    </tr>\n",
       "  </thead>\n",
       "  <tbody>\n",
       "    <tr>\n",
       "      <th>0</th>\n",
       "      <td>1000002330</td>\n",
       "      <td>The Songs of Adelaide &amp; Abullah</td>\n",
       "      <td>Poetry</td>\n",
       "      <td>Publishing</td>\n",
       "      <td>GBP</td>\n",
       "      <td>2015-10-09</td>\n",
       "      <td>1000.0</td>\n",
       "      <td>2015-08-11 12:12:28</td>\n",
       "      <td>0.00</td>\n",
       "      <td>failed</td>\n",
       "      <td>0</td>\n",
       "      <td>GB</td>\n",
       "      <td>0.00</td>\n",
       "      <td>0.00</td>\n",
       "      <td>1533.95</td>\n",
       "    </tr>\n",
       "    <tr>\n",
       "      <th>1</th>\n",
       "      <td>1000003930</td>\n",
       "      <td>Greeting From Earth: ZGAC Arts Capsule For ET</td>\n",
       "      <td>Narrative Film</td>\n",
       "      <td>Film &amp; Video</td>\n",
       "      <td>USD</td>\n",
       "      <td>2017-11-01</td>\n",
       "      <td>30000.0</td>\n",
       "      <td>2017-09-02 04:43:57</td>\n",
       "      <td>2421.00</td>\n",
       "      <td>failed</td>\n",
       "      <td>15</td>\n",
       "      <td>US</td>\n",
       "      <td>100.00</td>\n",
       "      <td>2421.00</td>\n",
       "      <td>30000.00</td>\n",
       "    </tr>\n",
       "    <tr>\n",
       "      <th>2</th>\n",
       "      <td>1000004038</td>\n",
       "      <td>Where is Hank?</td>\n",
       "      <td>Narrative Film</td>\n",
       "      <td>Film &amp; Video</td>\n",
       "      <td>USD</td>\n",
       "      <td>2013-02-26</td>\n",
       "      <td>45000.0</td>\n",
       "      <td>2013-01-12 00:20:50</td>\n",
       "      <td>220.00</td>\n",
       "      <td>failed</td>\n",
       "      <td>3</td>\n",
       "      <td>US</td>\n",
       "      <td>220.00</td>\n",
       "      <td>220.00</td>\n",
       "      <td>45000.00</td>\n",
       "    </tr>\n",
       "    <tr>\n",
       "      <th>3</th>\n",
       "      <td>1000007540</td>\n",
       "      <td>ToshiCapital Rekordz Needs Help to Complete Album</td>\n",
       "      <td>Music</td>\n",
       "      <td>Music</td>\n",
       "      <td>USD</td>\n",
       "      <td>2012-04-16</td>\n",
       "      <td>5000.0</td>\n",
       "      <td>2012-03-17 03:24:11</td>\n",
       "      <td>1.00</td>\n",
       "      <td>failed</td>\n",
       "      <td>1</td>\n",
       "      <td>US</td>\n",
       "      <td>1.00</td>\n",
       "      <td>1.00</td>\n",
       "      <td>5000.00</td>\n",
       "    </tr>\n",
       "    <tr>\n",
       "      <th>4</th>\n",
       "      <td>1000011046</td>\n",
       "      <td>Community Film Project: The Art of Neighborhoo...</td>\n",
       "      <td>Film &amp; Video</td>\n",
       "      <td>Film &amp; Video</td>\n",
       "      <td>USD</td>\n",
       "      <td>2015-08-29</td>\n",
       "      <td>19500.0</td>\n",
       "      <td>2015-07-04 08:35:03</td>\n",
       "      <td>1283.00</td>\n",
       "      <td>canceled</td>\n",
       "      <td>14</td>\n",
       "      <td>US</td>\n",
       "      <td>1283.00</td>\n",
       "      <td>1283.00</td>\n",
       "      <td>19500.00</td>\n",
       "    </tr>\n",
       "    <tr>\n",
       "      <th>5</th>\n",
       "      <td>1000014025</td>\n",
       "      <td>Monarch Espresso Bar</td>\n",
       "      <td>Restaurants</td>\n",
       "      <td>Food</td>\n",
       "      <td>USD</td>\n",
       "      <td>2016-04-01</td>\n",
       "      <td>50000.0</td>\n",
       "      <td>2016-02-26 13:38:27</td>\n",
       "      <td>52375.00</td>\n",
       "      <td>successful</td>\n",
       "      <td>224</td>\n",
       "      <td>US</td>\n",
       "      <td>52375.00</td>\n",
       "      <td>52375.00</td>\n",
       "      <td>50000.00</td>\n",
       "    </tr>\n",
       "    <tr>\n",
       "      <th>6</th>\n",
       "      <td>1000023410</td>\n",
       "      <td>Support Solar Roasted Coffee &amp; Green Energy!  ...</td>\n",
       "      <td>Food</td>\n",
       "      <td>Food</td>\n",
       "      <td>USD</td>\n",
       "      <td>2014-12-21</td>\n",
       "      <td>1000.0</td>\n",
       "      <td>2014-12-01 18:30:44</td>\n",
       "      <td>1205.00</td>\n",
       "      <td>successful</td>\n",
       "      <td>16</td>\n",
       "      <td>US</td>\n",
       "      <td>1205.00</td>\n",
       "      <td>1205.00</td>\n",
       "      <td>1000.00</td>\n",
       "    </tr>\n",
       "    <tr>\n",
       "      <th>7</th>\n",
       "      <td>1000030581</td>\n",
       "      <td>Chaser Strips. Our Strips make Shots their B*tch!</td>\n",
       "      <td>Drinks</td>\n",
       "      <td>Food</td>\n",
       "      <td>USD</td>\n",
       "      <td>2016-03-17</td>\n",
       "      <td>25000.0</td>\n",
       "      <td>2016-02-01 20:05:12</td>\n",
       "      <td>453.00</td>\n",
       "      <td>failed</td>\n",
       "      <td>40</td>\n",
       "      <td>US</td>\n",
       "      <td>453.00</td>\n",
       "      <td>453.00</td>\n",
       "      <td>25000.00</td>\n",
       "    </tr>\n",
       "    <tr>\n",
       "      <th>8</th>\n",
       "      <td>1000034518</td>\n",
       "      <td>SPIN - Premium Retractable In-Ear Headphones w...</td>\n",
       "      <td>Product Design</td>\n",
       "      <td>Design</td>\n",
       "      <td>USD</td>\n",
       "      <td>2014-05-29</td>\n",
       "      <td>125000.0</td>\n",
       "      <td>2014-04-24 18:14:43</td>\n",
       "      <td>8233.00</td>\n",
       "      <td>canceled</td>\n",
       "      <td>58</td>\n",
       "      <td>US</td>\n",
       "      <td>8233.00</td>\n",
       "      <td>8233.00</td>\n",
       "      <td>125000.00</td>\n",
       "    </tr>\n",
       "    <tr>\n",
       "      <th>9</th>\n",
       "      <td>100004195</td>\n",
       "      <td>STUDIO IN THE SKY - A Documentary Feature Film...</td>\n",
       "      <td>Documentary</td>\n",
       "      <td>Film &amp; Video</td>\n",
       "      <td>USD</td>\n",
       "      <td>2014-08-10</td>\n",
       "      <td>65000.0</td>\n",
       "      <td>2014-07-11 21:55:48</td>\n",
       "      <td>6240.57</td>\n",
       "      <td>canceled</td>\n",
       "      <td>43</td>\n",
       "      <td>US</td>\n",
       "      <td>6240.57</td>\n",
       "      <td>6240.57</td>\n",
       "      <td>65000.00</td>\n",
       "    </tr>\n",
       "  </tbody>\n",
       "</table>\n",
       "</div>"
      ],
      "text/plain": [
       "           ID                                               name  \\\n",
       "0  1000002330                    The Songs of Adelaide & Abullah   \n",
       "1  1000003930      Greeting From Earth: ZGAC Arts Capsule For ET   \n",
       "2  1000004038                                     Where is Hank?   \n",
       "3  1000007540  ToshiCapital Rekordz Needs Help to Complete Album   \n",
       "4  1000011046  Community Film Project: The Art of Neighborhoo...   \n",
       "5  1000014025                               Monarch Espresso Bar   \n",
       "6  1000023410  Support Solar Roasted Coffee & Green Energy!  ...   \n",
       "7  1000030581  Chaser Strips. Our Strips make Shots their B*tch!   \n",
       "8  1000034518  SPIN - Premium Retractable In-Ear Headphones w...   \n",
       "9   100004195  STUDIO IN THE SKY - A Documentary Feature Film...   \n",
       "\n",
       "         category main_category currency    deadline      goal  \\\n",
       "0          Poetry    Publishing      GBP  2015-10-09    1000.0   \n",
       "1  Narrative Film  Film & Video      USD  2017-11-01   30000.0   \n",
       "2  Narrative Film  Film & Video      USD  2013-02-26   45000.0   \n",
       "3           Music         Music      USD  2012-04-16    5000.0   \n",
       "4    Film & Video  Film & Video      USD  2015-08-29   19500.0   \n",
       "5     Restaurants          Food      USD  2016-04-01   50000.0   \n",
       "6            Food          Food      USD  2014-12-21    1000.0   \n",
       "7          Drinks          Food      USD  2016-03-17   25000.0   \n",
       "8  Product Design        Design      USD  2014-05-29  125000.0   \n",
       "9     Documentary  Film & Video      USD  2014-08-10   65000.0   \n",
       "\n",
       "              launched   pledged       state  backers country  usd pledged  \\\n",
       "0  2015-08-11 12:12:28      0.00      failed        0      GB         0.00   \n",
       "1  2017-09-02 04:43:57   2421.00      failed       15      US       100.00   \n",
       "2  2013-01-12 00:20:50    220.00      failed        3      US       220.00   \n",
       "3  2012-03-17 03:24:11      1.00      failed        1      US         1.00   \n",
       "4  2015-07-04 08:35:03   1283.00    canceled       14      US      1283.00   \n",
       "5  2016-02-26 13:38:27  52375.00  successful      224      US     52375.00   \n",
       "6  2014-12-01 18:30:44   1205.00  successful       16      US      1205.00   \n",
       "7  2016-02-01 20:05:12    453.00      failed       40      US       453.00   \n",
       "8  2014-04-24 18:14:43   8233.00    canceled       58      US      8233.00   \n",
       "9  2014-07-11 21:55:48   6240.57    canceled       43      US      6240.57   \n",
       "\n",
       "   usd_pledged_real  usd_goal_real  \n",
       "0              0.00        1533.95  \n",
       "1           2421.00       30000.00  \n",
       "2            220.00       45000.00  \n",
       "3              1.00        5000.00  \n",
       "4           1283.00       19500.00  \n",
       "5          52375.00       50000.00  \n",
       "6           1205.00        1000.00  \n",
       "7            453.00       25000.00  \n",
       "8           8233.00      125000.00  \n",
       "9           6240.57       65000.00  "
      ]
     },
     "execution_count": 88,
     "metadata": {},
     "output_type": "execute_result"
    }
   ],
   "source": [
    "df_raw.head(10)"
   ]
  },
  {
   "cell_type": "markdown",
   "id": "37dbf20f",
   "metadata": {},
   "source": [
    "## Use .info() to see length and dtypes"
   ]
  },
  {
   "cell_type": "code",
   "execution_count": 3,
   "id": "028788b9",
   "metadata": {},
   "outputs": [
    {
     "name": "stdout",
     "output_type": "stream",
     "text": [
      "<class 'pandas.core.frame.DataFrame'>\n",
      "RangeIndex: 378661 entries, 0 to 378660\n",
      "Data columns (total 15 columns):\n",
      " #   Column            Non-Null Count   Dtype  \n",
      "---  ------            --------------   -----  \n",
      " 0   ID                378661 non-null  int64  \n",
      " 1   name              378657 non-null  object \n",
      " 2   category          378661 non-null  object \n",
      " 3   main_category     378661 non-null  object \n",
      " 4   currency          378661 non-null  object \n",
      " 5   deadline          378661 non-null  object \n",
      " 6   goal              378661 non-null  float64\n",
      " 7   launched          378661 non-null  object \n",
      " 8   pledged           378661 non-null  float64\n",
      " 9   state             378661 non-null  object \n",
      " 10  backers           378661 non-null  int64  \n",
      " 11  country           378661 non-null  object \n",
      " 12  usd pledged       374864 non-null  float64\n",
      " 13  usd_pledged_real  378661 non-null  float64\n",
      " 14  usd_goal_real     378661 non-null  float64\n",
      "dtypes: float64(5), int64(2), object(8)\n",
      "memory usage: 43.3+ MB\n"
     ]
    }
   ],
   "source": [
    "df_raw.info()"
   ]
  },
  {
   "cell_type": "code",
   "execution_count": 5,
   "id": "4bb26246",
   "metadata": {},
   "outputs": [
    {
     "data": {
      "text/plain": [
       "ID                  False\n",
       "name                 True\n",
       "category            False\n",
       "main_category       False\n",
       "currency            False\n",
       "deadline            False\n",
       "goal                False\n",
       "launched            False\n",
       "pledged             False\n",
       "state               False\n",
       "backers             False\n",
       "country             False\n",
       "usd pledged          True\n",
       "usd_pledged_real    False\n",
       "usd_goal_real       False\n",
       "dtype: bool"
      ]
     },
     "execution_count": 5,
     "metadata": {},
     "output_type": "execute_result"
    }
   ],
   "source": [
    "#Check to see if there're any missing values in our data set\n",
    "df_raw.isnull().any()"
   ]
  },
  {
   "cell_type": "markdown",
   "id": "1b8083c9",
   "metadata": {},
   "source": [
    "No need to drop any NA columns because \"name\" is categorical and we can use \"usd_pledged_real\" instead of \"usd pledged\""
   ]
  },
  {
   "cell_type": "markdown",
   "id": "11aacd74",
   "metadata": {},
   "source": [
    "# Feature Engineering\n",
    "(Feature engineering is the process of creating a variable that characterizes an observation)"
   ]
  },
  {
   "cell_type": "markdown",
   "id": "32e0ab34",
   "metadata": {},
   "source": [
    "To be able to work with the feature \"Timestamp\", we will transform it to datetime, a format that will allow us to perform calculations on it."
   ]
  },
  {
   "cell_type": "code",
   "execution_count": 89,
   "id": "4cfb4e92",
   "metadata": {},
   "outputs": [],
   "source": [
    "df_raw['launched']=pd.to_datetime(df_raw['launched'])\n",
    "df_raw['deadline']=pd.to_datetime(df_raw['deadline'])"
   ]
  },
  {
   "cell_type": "markdown",
   "id": "ab69acf6",
   "metadata": {},
   "source": [
    "We are creating a new column 'duration_in_days' which shows the number of days between each progject's deadline and the launched date"
   ]
  },
  {
   "cell_type": "code",
   "execution_count": 90,
   "id": "6d211542",
   "metadata": {},
   "outputs": [],
   "source": [
    "df_raw['duration_in_days']=(df_raw['deadline']-df_raw['launched']).dt.days"
   ]
  },
  {
   "cell_type": "code",
   "execution_count": 91,
   "id": "98a449fa",
   "metadata": {},
   "outputs": [
    {
     "data": {
      "text/plain": [
       "0     58\n",
       "1     59\n",
       "2     44\n",
       "3     29\n",
       "4     55\n",
       "5     34\n",
       "6     19\n",
       "7     44\n",
       "8     34\n",
       "9     29\n",
       "10    29\n",
       "11    29\n",
       "12    29\n",
       "13    44\n",
       "14    27\n",
       "Name: duration_in_days, dtype: int64"
      ]
     },
     "execution_count": 91,
     "metadata": {},
     "output_type": "execute_result"
    }
   ],
   "source": [
    "df_raw['duration_in_days'].head(15)"
   ]
  },
  {
   "cell_type": "markdown",
   "id": "9f37813c",
   "metadata": {},
   "source": [
    "We are createing a new column named percent_pledged by dividing the usd_goal_real column by the usd_pledged_real column. \n",
    "\n",
    "This gives us the multiple/factor of the amount pledged over the goal amount, which is the amount asked for.\n",
    "\n",
    "For example, if the amount pledged is the equal to the goal amount, the percent_pledged would be 100; if the amount pledged is 3 times more than the goal amount, the percent_pledged would be 300."
   ]
  },
  {
   "cell_type": "code",
   "execution_count": 92,
   "id": "1a5283ba",
   "metadata": {},
   "outputs": [
    {
     "data": {
      "text/plain": [
       "0          0.000000\n",
       "1          8.070000\n",
       "2          0.488889\n",
       "3          0.020000\n",
       "4          6.579487\n",
       "            ...    \n",
       "378656     0.050000\n",
       "378657    10.333333\n",
       "378658     0.133333\n",
       "378659     1.333333\n",
       "378660    26.200000\n",
       "Name: percent_pledged, Length: 378661, dtype: float64"
      ]
     },
     "execution_count": 92,
     "metadata": {},
     "output_type": "execute_result"
    }
   ],
   "source": [
    "df_raw['percent_pledged']=(df_raw['usd_pledged_real']/df_raw['usd_goal_real'])*100\n",
    "df_raw['percent_pledged']"
   ]
  },
  {
   "cell_type": "code",
   "execution_count": 10,
   "id": "d191cf1e",
   "metadata": {},
   "outputs": [
    {
     "name": "stdout",
     "output_type": "stream",
     "text": [
      "<class 'pandas.core.frame.DataFrame'>\n",
      "RangeIndex: 378661 entries, 0 to 378660\n",
      "Data columns (total 17 columns):\n",
      " #   Column            Non-Null Count   Dtype         \n",
      "---  ------            --------------   -----         \n",
      " 0   ID                378661 non-null  int64         \n",
      " 1   name              378657 non-null  object        \n",
      " 2   category          378661 non-null  object        \n",
      " 3   main_category     378661 non-null  object        \n",
      " 4   currency          378661 non-null  object        \n",
      " 5   deadline          378661 non-null  datetime64[ns]\n",
      " 6   goal              378661 non-null  float64       \n",
      " 7   launched          378661 non-null  datetime64[ns]\n",
      " 8   pledged           378661 non-null  float64       \n",
      " 9   state             378661 non-null  object        \n",
      " 10  backers           378661 non-null  int64         \n",
      " 11  country           378661 non-null  object        \n",
      " 12  usd pledged       374864 non-null  float64       \n",
      " 13  usd_pledged_real  378661 non-null  float64       \n",
      " 14  usd_goal_real     378661 non-null  float64       \n",
      " 15  duration_in_days  378661 non-null  int64         \n",
      " 16  percent_pledged   378661 non-null  float64       \n",
      "dtypes: datetime64[ns](2), float64(6), int64(3), object(6)\n",
      "memory usage: 49.1+ MB\n"
     ]
    }
   ],
   "source": [
    "df_raw.info()"
   ]
  },
  {
   "cell_type": "markdown",
   "id": "2762e37a",
   "metadata": {},
   "source": [
    "## Check for duplicates"
   ]
  },
  {
   "cell_type": "code",
   "execution_count": 61,
   "id": "d8357047",
   "metadata": {},
   "outputs": [
    {
     "data": {
      "text/plain": [
       "0"
      ]
     },
     "execution_count": 61,
     "metadata": {},
     "output_type": "execute_result"
    }
   ],
   "source": [
    "df_raw.duplicated().sum()"
   ]
  },
  {
   "cell_type": "markdown",
   "id": "8c1d3498",
   "metadata": {},
   "source": [
    "## Identify numerical and categorical variables"
   ]
  },
  {
   "cell_type": "code",
   "execution_count": 11,
   "id": "df431fab",
   "metadata": {},
   "outputs": [
    {
     "data": {
      "text/plain": [
       "['ID',\n",
       " 'name',\n",
       " 'category',\n",
       " 'main_category',\n",
       " 'currency',\n",
       " 'deadline',\n",
       " 'goal',\n",
       " 'launched',\n",
       " 'pledged',\n",
       " 'state',\n",
       " 'backers',\n",
       " 'country',\n",
       " 'usd pledged',\n",
       " 'usd_pledged_real',\n",
       " 'usd_goal_real',\n",
       " 'duration_in_days',\n",
       " 'percent_pledged']"
      ]
     },
     "execution_count": 11,
     "metadata": {},
     "output_type": "execute_result"
    }
   ],
   "source": [
    "cols_list=list(df_raw.columns)\n",
    "cols_list"
   ]
  },
  {
   "cell_type": "code",
   "execution_count": 55,
   "id": "7924c314",
   "metadata": {},
   "outputs": [],
   "source": [
    "num_cols=['ID','goal','pledged','backers',\n",
    "          'usd pledged','usd_pledged_real','usd_goal_real','percent_pledged','duration_in_days']"
   ]
  },
  {
   "cell_type": "code",
   "execution_count": 15,
   "id": "4694fbc1",
   "metadata": {},
   "outputs": [],
   "source": [
    "cat_cols=['name','category',\n",
    " 'main_category',\n",
    " 'currency',\n",
    " 'deadline',\n",
    " 'launched',\n",
    " 'state',\n",
    " 'country']"
   ]
  },
  {
   "cell_type": "markdown",
   "id": "8f0f6d49",
   "metadata": {},
   "source": [
    "## Exploring the distrubtions in different columns"
   ]
  },
  {
   "cell_type": "code",
   "execution_count": 69,
   "id": "8e7eded7",
   "metadata": {
    "scrolled": false
   },
   "outputs": [
    {
     "data": {
      "text/plain": [
       "Product Design     22314\n",
       "Documentary        16139\n",
       "Music              15727\n",
       "Tabletop Games     14180\n",
       "Shorts             12357\n",
       "                   ...  \n",
       "Residencies           69\n",
       "Letterpress           49\n",
       "Chiptune              35\n",
       "Literary Spaces       27\n",
       "Taxidermy             13\n",
       "Name: category, Length: 159, dtype: int64"
      ]
     },
     "execution_count": 69,
     "metadata": {},
     "output_type": "execute_result"
    }
   ],
   "source": [
    "df_raw['category'].value_counts()"
   ]
  },
  {
   "cell_type": "code",
   "execution_count": 68,
   "id": "dcc87be8",
   "metadata": {},
   "outputs": [
    {
     "data": {
      "text/plain": [
       "Film & Video    63585\n",
       "Music           51918\n",
       "Publishing      39874\n",
       "Games           35231\n",
       "Technology      32569\n",
       "Design          30070\n",
       "Art             28153\n",
       "Food            24602\n",
       "Fashion         22816\n",
       "Theater         10913\n",
       "Comics          10819\n",
       "Photography     10779\n",
       "Crafts           8809\n",
       "Journalism       4755\n",
       "Dance            3768\n",
       "Name: main_category, dtype: int64"
      ]
     },
     "execution_count": 68,
     "metadata": {},
     "output_type": "execute_result"
    }
   ],
   "source": [
    "df_raw['main_category'].value_counts()"
   ]
  },
  {
   "cell_type": "code",
   "execution_count": 71,
   "id": "7f98973b",
   "metadata": {},
   "outputs": [
    {
     "data": {
      "text/plain": [
       "failed        197719\n",
       "successful    133956\n",
       "canceled       38779\n",
       "undefined       3562\n",
       "live            2799\n",
       "suspended       1846\n",
       "Name: state, dtype: int64"
      ]
     },
     "execution_count": 71,
     "metadata": {},
     "output_type": "execute_result"
    }
   ],
   "source": [
    "df_raw['state'].value_counts()"
   ]
  },
  {
   "cell_type": "code",
   "execution_count": 93,
   "id": "046d1f43",
   "metadata": {},
   "outputs": [
    {
     "data": {
      "text/plain": [
       "29       169171\n",
       "59        33623\n",
       "44        17749\n",
       "30        13261\n",
       "34        10099\n",
       "          ...  \n",
       "14708         1\n",
       "14732         1\n",
       "14749         1\n",
       "14760         1\n",
       "14834         1\n",
       "Name: duration_in_days, Length: 99, dtype: int64"
      ]
     },
     "execution_count": 93,
     "metadata": {},
     "output_type": "execute_result"
    }
   ],
   "source": [
    "df_raw['duration_in_days'].value_counts()"
   ]
  },
  {
   "cell_type": "code",
   "execution_count": 94,
   "id": "52c61071",
   "metadata": {},
   "outputs": [
    {
     "data": {
      "text/plain": [
       "US      292627\n",
       "GB       33672\n",
       "CA       14756\n",
       "AU        7839\n",
       "DE        4171\n",
       "N,0\"      3797\n",
       "FR        2939\n",
       "IT        2878\n",
       "NL        2868\n",
       "ES        2276\n",
       "SE        1757\n",
       "MX        1752\n",
       "NZ        1447\n",
       "DK        1113\n",
       "IE         811\n",
       "CH         761\n",
       "NO         708\n",
       "HK         618\n",
       "BE         617\n",
       "AT         597\n",
       "SG         555\n",
       "LU          62\n",
       "JP          40\n",
       "Name: country, dtype: int64"
      ]
     },
     "execution_count": 94,
     "metadata": {},
     "output_type": "execute_result"
    }
   ],
   "source": [
    "df_raw['country'].value_counts()"
   ]
  },
  {
   "cell_type": "markdown",
   "id": "6f2fdcf7",
   "metadata": {},
   "source": [
    "It's noteworthy that there are 3797 'N,0\"' values in the country column which are potentially Nan/null values"
   ]
  },
  {
   "cell_type": "code",
   "execution_count": 67,
   "id": "2bc6d7f1",
   "metadata": {},
   "outputs": [
    {
     "data": {
      "text/plain": [
       "US      77.279414\n",
       "GB       8.892387\n",
       "CA       3.896889\n",
       "AU       2.070189\n",
       "DE       1.101513\n",
       "N,0\"     1.002744\n",
       "FR       0.776156\n",
       "IT       0.760047\n",
       "NL       0.757406\n",
       "ES       0.601065\n",
       "SE       0.464003\n",
       "MX       0.462683\n",
       "NZ       0.382136\n",
       "DK       0.293930\n",
       "IE       0.214176\n",
       "CH       0.200971\n",
       "NO       0.186975\n",
       "HK       0.163207\n",
       "BE       0.162943\n",
       "AT       0.157661\n",
       "SG       0.146569\n",
       "LU       0.016373\n",
       "JP       0.010564\n",
       "Name: country, dtype: float64"
      ]
     },
     "execution_count": 67,
     "metadata": {},
     "output_type": "execute_result"
    }
   ],
   "source": [
    "df_raw['country'].value_counts(normalize=True) * 100"
   ]
  },
  {
   "cell_type": "markdown",
   "id": "e3fddede",
   "metadata": {},
   "source": [
    "# Since the majority (77%) of the data points were from the US. \n",
    "\n",
    "# For simplicity and consistency, we are going to focus on the US data points and store in a data frame called df_us"
   ]
  },
  {
   "cell_type": "markdown",
   "id": "5ae929d5",
   "metadata": {},
   "source": [
    "## Remain useful columns in a single df which will be used for further analysis"
   ]
  },
  {
   "cell_type": "code",
   "execution_count": 95,
   "id": "6ed33393",
   "metadata": {},
   "outputs": [],
   "source": [
    "df_us=df_raw[df_raw['country']=='US'] #focus on data from the US only"
   ]
  },
  {
   "cell_type": "code",
   "execution_count": 96,
   "id": "9fae8627",
   "metadata": {},
   "outputs": [],
   "source": [
    "df_us=df_us.drop(['ID','goal','pledged','usd pledged'],axis=1)"
   ]
  },
  {
   "cell_type": "markdown",
   "id": "2e308206",
   "metadata": {},
   "source": [
    "'ID' is the unique identifier but does not contribute to statistical analysis\n",
    "For consistency, usd_goal_real' and 'usd_pledged_real' will be used instead of 'goal', or 'pledged' or 'use pledged' because these 2 columns do not contain any null values"
   ]
  },
  {
   "cell_type": "code",
   "execution_count": 14,
   "id": "316a321f",
   "metadata": {},
   "outputs": [
    {
     "data": {
      "text/html": [
       "<div>\n",
       "<style scoped>\n",
       "    .dataframe tbody tr th:only-of-type {\n",
       "        vertical-align: middle;\n",
       "    }\n",
       "\n",
       "    .dataframe tbody tr th {\n",
       "        vertical-align: top;\n",
       "    }\n",
       "\n",
       "    .dataframe thead th {\n",
       "        text-align: right;\n",
       "    }\n",
       "</style>\n",
       "<table border=\"1\" class=\"dataframe\">\n",
       "  <thead>\n",
       "    <tr style=\"text-align: right;\">\n",
       "      <th></th>\n",
       "      <th>name</th>\n",
       "      <th>category</th>\n",
       "      <th>main_category</th>\n",
       "      <th>currency</th>\n",
       "      <th>deadline</th>\n",
       "      <th>launched</th>\n",
       "      <th>state</th>\n",
       "      <th>backers</th>\n",
       "      <th>country</th>\n",
       "      <th>usd_pledged_real</th>\n",
       "      <th>usd_goal_real</th>\n",
       "      <th>duration_in_days</th>\n",
       "      <th>percent_pledged</th>\n",
       "    </tr>\n",
       "  </thead>\n",
       "  <tbody>\n",
       "    <tr>\n",
       "      <th>1</th>\n",
       "      <td>Greeting From Earth: ZGAC Arts Capsule For ET</td>\n",
       "      <td>Narrative Film</td>\n",
       "      <td>Film &amp; Video</td>\n",
       "      <td>USD</td>\n",
       "      <td>2017-11-01</td>\n",
       "      <td>2017-09-02 04:43:57</td>\n",
       "      <td>failed</td>\n",
       "      <td>15</td>\n",
       "      <td>US</td>\n",
       "      <td>2421.0</td>\n",
       "      <td>30000.0</td>\n",
       "      <td>59</td>\n",
       "      <td>8.070000</td>\n",
       "    </tr>\n",
       "    <tr>\n",
       "      <th>2</th>\n",
       "      <td>Where is Hank?</td>\n",
       "      <td>Narrative Film</td>\n",
       "      <td>Film &amp; Video</td>\n",
       "      <td>USD</td>\n",
       "      <td>2013-02-26</td>\n",
       "      <td>2013-01-12 00:20:50</td>\n",
       "      <td>failed</td>\n",
       "      <td>3</td>\n",
       "      <td>US</td>\n",
       "      <td>220.0</td>\n",
       "      <td>45000.0</td>\n",
       "      <td>44</td>\n",
       "      <td>0.488889</td>\n",
       "    </tr>\n",
       "    <tr>\n",
       "      <th>3</th>\n",
       "      <td>ToshiCapital Rekordz Needs Help to Complete Album</td>\n",
       "      <td>Music</td>\n",
       "      <td>Music</td>\n",
       "      <td>USD</td>\n",
       "      <td>2012-04-16</td>\n",
       "      <td>2012-03-17 03:24:11</td>\n",
       "      <td>failed</td>\n",
       "      <td>1</td>\n",
       "      <td>US</td>\n",
       "      <td>1.0</td>\n",
       "      <td>5000.0</td>\n",
       "      <td>29</td>\n",
       "      <td>0.020000</td>\n",
       "    </tr>\n",
       "    <tr>\n",
       "      <th>4</th>\n",
       "      <td>Community Film Project: The Art of Neighborhoo...</td>\n",
       "      <td>Film &amp; Video</td>\n",
       "      <td>Film &amp; Video</td>\n",
       "      <td>USD</td>\n",
       "      <td>2015-08-29</td>\n",
       "      <td>2015-07-04 08:35:03</td>\n",
       "      <td>canceled</td>\n",
       "      <td>14</td>\n",
       "      <td>US</td>\n",
       "      <td>1283.0</td>\n",
       "      <td>19500.0</td>\n",
       "      <td>55</td>\n",
       "      <td>6.579487</td>\n",
       "    </tr>\n",
       "    <tr>\n",
       "      <th>5</th>\n",
       "      <td>Monarch Espresso Bar</td>\n",
       "      <td>Restaurants</td>\n",
       "      <td>Food</td>\n",
       "      <td>USD</td>\n",
       "      <td>2016-04-01</td>\n",
       "      <td>2016-02-26 13:38:27</td>\n",
       "      <td>successful</td>\n",
       "      <td>224</td>\n",
       "      <td>US</td>\n",
       "      <td>52375.0</td>\n",
       "      <td>50000.0</td>\n",
       "      <td>34</td>\n",
       "      <td>104.750000</td>\n",
       "    </tr>\n",
       "  </tbody>\n",
       "</table>\n",
       "</div>"
      ],
      "text/plain": [
       "                                                name        category  \\\n",
       "1      Greeting From Earth: ZGAC Arts Capsule For ET  Narrative Film   \n",
       "2                                     Where is Hank?  Narrative Film   \n",
       "3  ToshiCapital Rekordz Needs Help to Complete Album           Music   \n",
       "4  Community Film Project: The Art of Neighborhoo...    Film & Video   \n",
       "5                               Monarch Espresso Bar     Restaurants   \n",
       "\n",
       "  main_category currency   deadline            launched       state  backers  \\\n",
       "1  Film & Video      USD 2017-11-01 2017-09-02 04:43:57      failed       15   \n",
       "2  Film & Video      USD 2013-02-26 2013-01-12 00:20:50      failed        3   \n",
       "3         Music      USD 2012-04-16 2012-03-17 03:24:11      failed        1   \n",
       "4  Film & Video      USD 2015-08-29 2015-07-04 08:35:03    canceled       14   \n",
       "5          Food      USD 2016-04-01 2016-02-26 13:38:27  successful      224   \n",
       "\n",
       "  country  usd_pledged_real  usd_goal_real  duration_in_days  percent_pledged  \n",
       "1      US            2421.0        30000.0                59         8.070000  \n",
       "2      US             220.0        45000.0                44         0.488889  \n",
       "3      US               1.0         5000.0                29         0.020000  \n",
       "4      US            1283.0        19500.0                55         6.579487  \n",
       "5      US           52375.0        50000.0                34       104.750000  "
      ]
     },
     "execution_count": 14,
     "metadata": {},
     "output_type": "execute_result"
    }
   ],
   "source": [
    "df_us.head(5)"
   ]
  },
  {
   "cell_type": "code",
   "execution_count": 97,
   "id": "b609019f",
   "metadata": {},
   "outputs": [],
   "source": [
    "df_us_copy=df_us.copy() #making a copy for backup"
   ]
  },
  {
   "cell_type": "code",
   "execution_count": 16,
   "id": "f2223252",
   "metadata": {},
   "outputs": [
    {
     "name": "stdout",
     "output_type": "stream",
     "text": [
      "<class 'pandas.core.frame.DataFrame'>\n",
      "Int64Index: 292627 entries, 1 to 378660\n",
      "Data columns (total 13 columns):\n",
      " #   Column            Non-Null Count   Dtype         \n",
      "---  ------            --------------   -----         \n",
      " 0   name              292624 non-null  object        \n",
      " 1   category          292627 non-null  object        \n",
      " 2   main_category     292627 non-null  object        \n",
      " 3   currency          292627 non-null  object        \n",
      " 4   deadline          292627 non-null  datetime64[ns]\n",
      " 5   launched          292627 non-null  datetime64[ns]\n",
      " 6   state             292627 non-null  object        \n",
      " 7   backers           292627 non-null  int64         \n",
      " 8   country           292627 non-null  object        \n",
      " 9   usd_pledged_real  292627 non-null  float64       \n",
      " 10  usd_goal_real     292627 non-null  float64       \n",
      " 11  duration_in_days  292627 non-null  int64         \n",
      " 12  percent_pledged   292627 non-null  float64       \n",
      "dtypes: datetime64[ns](2), float64(3), int64(2), object(6)\n",
      "memory usage: 31.3+ MB\n"
     ]
    }
   ],
   "source": [
    "df_us.info()"
   ]
  },
  {
   "cell_type": "code",
   "execution_count": 69,
   "id": "bf13fcb7",
   "metadata": {},
   "outputs": [
    {
     "data": {
      "text/plain": [
       "name                 True\n",
       "category            False\n",
       "main_category       False\n",
       "currency            False\n",
       "deadline            False\n",
       "launched            False\n",
       "state               False\n",
       "backers             False\n",
       "country             False\n",
       "usd_pledged_real    False\n",
       "usd_goal_real       False\n",
       "duration_in_days    False\n",
       "percent_pledged     False\n",
       "dtype: bool"
      ]
     },
     "execution_count": 69,
     "metadata": {},
     "output_type": "execute_result"
    }
   ],
   "source": [
    "df_us.isnull().any()"
   ]
  },
  {
   "cell_type": "markdown",
   "id": "88de162c",
   "metadata": {},
   "source": [
    "## Summarize numberical and categorical variables separately"
   ]
  },
  {
   "cell_type": "code",
   "execution_count": 10,
   "id": "ecf61ce4",
   "metadata": {},
   "outputs": [
    {
     "data": {
      "text/html": [
       "<div>\n",
       "<style scoped>\n",
       "    .dataframe tbody tr th:only-of-type {\n",
       "        vertical-align: middle;\n",
       "    }\n",
       "\n",
       "    .dataframe tbody tr th {\n",
       "        vertical-align: top;\n",
       "    }\n",
       "\n",
       "    .dataframe thead th {\n",
       "        text-align: right;\n",
       "    }\n",
       "</style>\n",
       "<table border=\"1\" class=\"dataframe\">\n",
       "  <thead>\n",
       "    <tr style=\"text-align: right;\">\n",
       "      <th></th>\n",
       "      <th>backers</th>\n",
       "      <th>usd_pledged_real</th>\n",
       "      <th>usd_goal_real</th>\n",
       "      <th>duration_in_days</th>\n",
       "      <th>percent_pledged</th>\n",
       "    </tr>\n",
       "  </thead>\n",
       "  <tbody>\n",
       "    <tr>\n",
       "      <th>count</th>\n",
       "      <td>292627.000000</td>\n",
       "      <td>2.926270e+05</td>\n",
       "      <td>2.926270e+05</td>\n",
       "      <td>292627.000000</td>\n",
       "      <td>2.926270e+05</td>\n",
       "    </tr>\n",
       "    <tr>\n",
       "      <th>mean</th>\n",
       "      <td>113.078615</td>\n",
       "      <td>9.670193e+03</td>\n",
       "      <td>4.403497e+04</td>\n",
       "      <td>33.740954</td>\n",
       "      <td>3.772658e+02</td>\n",
       "    </tr>\n",
       "    <tr>\n",
       "      <th>std</th>\n",
       "      <td>985.723400</td>\n",
       "      <td>9.932942e+04</td>\n",
       "      <td>1.108372e+06</td>\n",
       "      <td>68.025055</td>\n",
       "      <td>3.013829e+04</td>\n",
       "    </tr>\n",
       "    <tr>\n",
       "      <th>min</th>\n",
       "      <td>0.000000</td>\n",
       "      <td>0.000000e+00</td>\n",
       "      <td>1.000000e-02</td>\n",
       "      <td>0.000000</td>\n",
       "      <td>0.000000e+00</td>\n",
       "    </tr>\n",
       "    <tr>\n",
       "      <th>25%</th>\n",
       "      <td>2.000000</td>\n",
       "      <td>4.100000e+01</td>\n",
       "      <td>2.000000e+03</td>\n",
       "      <td>29.000000</td>\n",
       "      <td>6.000000e-01</td>\n",
       "    </tr>\n",
       "    <tr>\n",
       "      <th>50%</th>\n",
       "      <td>14.000000</td>\n",
       "      <td>7.250000e+02</td>\n",
       "      <td>5.250000e+03</td>\n",
       "      <td>29.000000</td>\n",
       "      <td>1.578000e+01</td>\n",
       "    </tr>\n",
       "    <tr>\n",
       "      <th>75%</th>\n",
       "      <td>60.000000</td>\n",
       "      <td>4.370000e+03</td>\n",
       "      <td>1.500000e+04</td>\n",
       "      <td>37.000000</td>\n",
       "      <td>1.074000e+02</td>\n",
       "    </tr>\n",
       "    <tr>\n",
       "      <th>max</th>\n",
       "      <td>219382.000000</td>\n",
       "      <td>2.033899e+07</td>\n",
       "      <td>1.000000e+08</td>\n",
       "      <td>14866.000000</td>\n",
       "      <td>1.042779e+07</td>\n",
       "    </tr>\n",
       "  </tbody>\n",
       "</table>\n",
       "</div>"
      ],
      "text/plain": [
       "             backers  usd_pledged_real  usd_goal_real  duration_in_days  \\\n",
       "count  292627.000000      2.926270e+05   2.926270e+05     292627.000000   \n",
       "mean      113.078615      9.670193e+03   4.403497e+04         33.740954   \n",
       "std       985.723400      9.932942e+04   1.108372e+06         68.025055   \n",
       "min         0.000000      0.000000e+00   1.000000e-02          0.000000   \n",
       "25%         2.000000      4.100000e+01   2.000000e+03         29.000000   \n",
       "50%        14.000000      7.250000e+02   5.250000e+03         29.000000   \n",
       "75%        60.000000      4.370000e+03   1.500000e+04         37.000000   \n",
       "max    219382.000000      2.033899e+07   1.000000e+08      14866.000000   \n",
       "\n",
       "       percent_pledged  \n",
       "count     2.926270e+05  \n",
       "mean      3.772658e+02  \n",
       "std       3.013829e+04  \n",
       "min       0.000000e+00  \n",
       "25%       6.000000e-01  \n",
       "50%       1.578000e+01  \n",
       "75%       1.074000e+02  \n",
       "max       1.042779e+07  "
      ]
     },
     "execution_count": 10,
     "metadata": {},
     "output_type": "execute_result"
    }
   ],
   "source": [
    "df_us.describe(include=[np.number])"
   ]
  },
  {
   "cell_type": "code",
   "execution_count": 11,
   "id": "9f2dee34",
   "metadata": {
    "scrolled": true
   },
   "outputs": [
    {
     "data": {
      "text/html": [
       "<div>\n",
       "<style scoped>\n",
       "    .dataframe tbody tr th:only-of-type {\n",
       "        vertical-align: middle;\n",
       "    }\n",
       "\n",
       "    .dataframe tbody tr th {\n",
       "        vertical-align: top;\n",
       "    }\n",
       "\n",
       "    .dataframe thead th {\n",
       "        text-align: right;\n",
       "    }\n",
       "</style>\n",
       "<table border=\"1\" class=\"dataframe\">\n",
       "  <thead>\n",
       "    <tr style=\"text-align: right;\">\n",
       "      <th></th>\n",
       "      <th>name</th>\n",
       "      <th>category</th>\n",
       "      <th>main_category</th>\n",
       "      <th>currency</th>\n",
       "      <th>state</th>\n",
       "      <th>country</th>\n",
       "    </tr>\n",
       "  </thead>\n",
       "  <tbody>\n",
       "    <tr>\n",
       "      <th>count</th>\n",
       "      <td>292624</td>\n",
       "      <td>292627</td>\n",
       "      <td>292627</td>\n",
       "      <td>292627</td>\n",
       "      <td>292627</td>\n",
       "      <td>292627</td>\n",
       "    </tr>\n",
       "    <tr>\n",
       "      <th>unique</th>\n",
       "      <td>290800</td>\n",
       "      <td>159</td>\n",
       "      <td>15</td>\n",
       "      <td>1</td>\n",
       "      <td>5</td>\n",
       "      <td>1</td>\n",
       "    </tr>\n",
       "    <tr>\n",
       "      <th>top</th>\n",
       "      <td>New EP/Music Development</td>\n",
       "      <td>Product Design</td>\n",
       "      <td>Film &amp; Video</td>\n",
       "      <td>USD</td>\n",
       "      <td>failed</td>\n",
       "      <td>US</td>\n",
       "    </tr>\n",
       "    <tr>\n",
       "      <th>freq</th>\n",
       "      <td>13</td>\n",
       "      <td>16222</td>\n",
       "      <td>51922</td>\n",
       "      <td>292627</td>\n",
       "      <td>152061</td>\n",
       "      <td>292627</td>\n",
       "    </tr>\n",
       "  </tbody>\n",
       "</table>\n",
       "</div>"
      ],
      "text/plain": [
       "                            name        category main_category currency  \\\n",
       "count                     292624          292627        292627   292627   \n",
       "unique                    290800             159            15        1   \n",
       "top     New EP/Music Development  Product Design  Film & Video      USD   \n",
       "freq                          13           16222         51922   292627   \n",
       "\n",
       "         state country  \n",
       "count   292627  292627  \n",
       "unique       5       1  \n",
       "top     failed      US  \n",
       "freq    152061  292627  "
      ]
     },
     "execution_count": 11,
     "metadata": {},
     "output_type": "execute_result"
    }
   ],
   "source": [
    "df_us.describe(include=['O']) #The 'O' stands for objects"
   ]
  },
  {
   "cell_type": "markdown",
   "id": "474af4ff",
   "metadata": {},
   "source": [
    "## Revisiting the distrubtions in different columns"
   ]
  },
  {
   "cell_type": "code",
   "execution_count": 108,
   "id": "a2bbc6b9",
   "metadata": {},
   "outputs": [
    {
     "data": {
      "text/plain": [
       "Product Design     16222\n",
       "Documentary        13671\n",
       "Music              11595\n",
       "Tabletop Games     10691\n",
       "Shorts             10348\n",
       "                   ...  \n",
       "Residencies           43\n",
       "Letterpress           34\n",
       "Chiptune              23\n",
       "Literary Spaces       19\n",
       "Taxidermy              8\n",
       "Name: category, Length: 159, dtype: int64"
      ]
     },
     "execution_count": 108,
     "metadata": {},
     "output_type": "execute_result"
    }
   ],
   "source": [
    "df_us['category'].value_counts()"
   ]
  },
  {
   "cell_type": "code",
   "execution_count": 110,
   "id": "59a94f14",
   "metadata": {},
   "outputs": [
    {
     "data": {
      "text/plain": [
       "Film & Video    51922\n",
       "Music           43238\n",
       "Publishing      31726\n",
       "Games           24636\n",
       "Art             22311\n",
       "Design          21690\n",
       "Technology      21556\n",
       "Food            19941\n",
       "Fashion         16584\n",
       "Comics           8910\n",
       "Theater          8709\n",
       "Photography      7988\n",
       "Crafts           6648\n",
       "Journalism       3540\n",
       "Dance            3228\n",
       "Name: main_category, dtype: int64"
      ]
     },
     "execution_count": 110,
     "metadata": {},
     "output_type": "execute_result"
    }
   ],
   "source": [
    "df_us['main_category'].value_counts()"
   ]
  },
  {
   "cell_type": "code",
   "execution_count": 112,
   "id": "23bd563d",
   "metadata": {},
   "outputs": [
    {
     "data": {
      "text/plain": [
       "failed        152061\n",
       "successful    109299\n",
       "canceled       28311\n",
       "live            1740\n",
       "suspended       1216\n",
       "Name: state, dtype: int64"
      ]
     },
     "execution_count": 112,
     "metadata": {},
     "output_type": "execute_result"
    }
   ],
   "source": [
    "df_us['state'].value_counts()"
   ]
  },
  {
   "cell_type": "code",
   "execution_count": 113,
   "id": "a87a6794",
   "metadata": {},
   "outputs": [
    {
     "data": {
      "text/plain": [
       "US    292627\n",
       "Name: country, dtype: int64"
      ]
     },
     "execution_count": 113,
     "metadata": {},
     "output_type": "execute_result"
    }
   ],
   "source": [
    "df_us['country'].value_counts()"
   ]
  },
  {
   "cell_type": "code",
   "execution_count": 98,
   "id": "69ac9e69",
   "metadata": {},
   "outputs": [
    {
     "data": {
      "text/plain": [
       "29       128289\n",
       "59        25520\n",
       "44        14587\n",
       "30        10753\n",
       "34         7657\n",
       "          ...  \n",
       "14708         1\n",
       "14732         1\n",
       "14749         1\n",
       "14760         1\n",
       "14834         1\n",
       "Name: duration_in_days, Length: 98, dtype: int64"
      ]
     },
     "execution_count": 98,
     "metadata": {},
     "output_type": "execute_result"
    }
   ],
   "source": [
    "df_us['duration_in_days'].value_counts()"
   ]
  },
  {
   "cell_type": "markdown",
   "id": "61015fc8",
   "metadata": {},
   "source": [
    "## Exploratory Data Analysis"
   ]
  },
  {
   "cell_type": "code",
   "execution_count": 117,
   "id": "4233cfed",
   "metadata": {},
   "outputs": [
    {
     "data": {
      "text/plain": [
       "(292627, 13)"
      ]
     },
     "execution_count": 117,
     "metadata": {},
     "output_type": "execute_result"
    }
   ],
   "source": [
    "df_us.shape"
   ]
  },
  {
   "cell_type": "code",
   "execution_count": 72,
   "id": "fae076c0",
   "metadata": {},
   "outputs": [
    {
     "data": {
      "text/html": [
       "<div>\n",
       "<style scoped>\n",
       "    .dataframe tbody tr th:only-of-type {\n",
       "        vertical-align: middle;\n",
       "    }\n",
       "\n",
       "    .dataframe tbody tr th {\n",
       "        vertical-align: top;\n",
       "    }\n",
       "\n",
       "    .dataframe thead th {\n",
       "        text-align: right;\n",
       "    }\n",
       "</style>\n",
       "<table border=\"1\" class=\"dataframe\">\n",
       "  <thead>\n",
       "    <tr style=\"text-align: right;\">\n",
       "      <th></th>\n",
       "      <th>backers</th>\n",
       "      <th>usd_pledged_real</th>\n",
       "      <th>usd_goal_real</th>\n",
       "      <th>duration_in_days</th>\n",
       "      <th>percent_pledged</th>\n",
       "    </tr>\n",
       "    <tr>\n",
       "      <th>main_category</th>\n",
       "      <th></th>\n",
       "      <th></th>\n",
       "      <th></th>\n",
       "      <th></th>\n",
       "      <th></th>\n",
       "    </tr>\n",
       "  </thead>\n",
       "  <tbody>\n",
       "    <tr>\n",
       "      <th>Art</th>\n",
       "      <td>43.028999</td>\n",
       "      <td>3306.613835</td>\n",
       "      <td>32925.693900</td>\n",
       "      <td>32.519923</td>\n",
       "      <td>284.482705</td>\n",
       "    </tr>\n",
       "    <tr>\n",
       "      <th>Comics</th>\n",
       "      <td>141.334119</td>\n",
       "      <td>7072.704378</td>\n",
       "      <td>22111.481514</td>\n",
       "      <td>33.252413</td>\n",
       "      <td>736.199278</td>\n",
       "    </tr>\n",
       "    <tr>\n",
       "      <th>Crafts</th>\n",
       "      <td>29.869886</td>\n",
       "      <td>1720.494546</td>\n",
       "      <td>10689.841682</td>\n",
       "      <td>30.326865</td>\n",
       "      <td>299.849722</td>\n",
       "    </tr>\n",
       "    <tr>\n",
       "      <th>Dance</th>\n",
       "      <td>45.671314</td>\n",
       "      <td>3695.297280</td>\n",
       "      <td>9345.089622</td>\n",
       "      <td>32.085812</td>\n",
       "      <td>83.767937</td>\n",
       "    </tr>\n",
       "    <tr>\n",
       "      <th>Design</th>\n",
       "      <td>269.816598</td>\n",
       "      <td>26732.962466</td>\n",
       "      <td>44079.063067</td>\n",
       "      <td>34.377317</td>\n",
       "      <td>215.730583</td>\n",
       "    </tr>\n",
       "    <tr>\n",
       "      <th>Fashion</th>\n",
       "      <td>67.794561</td>\n",
       "      <td>6079.896657</td>\n",
       "      <td>22524.952777</td>\n",
       "      <td>31.956585</td>\n",
       "      <td>111.301232</td>\n",
       "    </tr>\n",
       "    <tr>\n",
       "      <th>Film &amp; Video</th>\n",
       "      <td>70.861658</td>\n",
       "      <td>6659.951323</td>\n",
       "      <td>80393.303565</td>\n",
       "      <td>35.368514</td>\n",
       "      <td>171.904246</td>\n",
       "    </tr>\n",
       "    <tr>\n",
       "      <th>Food</th>\n",
       "      <td>59.306504</td>\n",
       "      <td>5648.474497</td>\n",
       "      <td>36526.483657</td>\n",
       "      <td>33.071310</td>\n",
       "      <td>94.050394</td>\n",
       "    </tr>\n",
       "    <tr>\n",
       "      <th>Games</th>\n",
       "      <td>375.685988</td>\n",
       "      <td>24947.336634</td>\n",
       "      <td>49400.623648</td>\n",
       "      <td>31.709693</td>\n",
       "      <td>926.028269</td>\n",
       "    </tr>\n",
       "    <tr>\n",
       "      <th>Journalism</th>\n",
       "      <td>40.248870</td>\n",
       "      <td>2815.561096</td>\n",
       "      <td>102191.030305</td>\n",
       "      <td>33.725141</td>\n",
       "      <td>37.628180</td>\n",
       "    </tr>\n",
       "    <tr>\n",
       "      <th>Music</th>\n",
       "      <td>56.888061</td>\n",
       "      <td>4087.055214</td>\n",
       "      <td>15831.124693</td>\n",
       "      <td>34.960729</td>\n",
       "      <td>901.011986</td>\n",
       "    </tr>\n",
       "    <tr>\n",
       "      <th>Photography</th>\n",
       "      <td>40.139459</td>\n",
       "      <td>3662.672882</td>\n",
       "      <td>12742.446358</td>\n",
       "      <td>33.159990</td>\n",
       "      <td>61.658090</td>\n",
       "    </tr>\n",
       "    <tr>\n",
       "      <th>Publishing</th>\n",
       "      <td>56.247400</td>\n",
       "      <td>3361.632477</td>\n",
       "      <td>26743.173264</td>\n",
       "      <td>33.165605</td>\n",
       "      <td>210.190161</td>\n",
       "    </tr>\n",
       "    <tr>\n",
       "      <th>Technology</th>\n",
       "      <td>198.787669</td>\n",
       "      <td>25789.472505</td>\n",
       "      <td>100281.630275</td>\n",
       "      <td>34.491789</td>\n",
       "      <td>372.309389</td>\n",
       "    </tr>\n",
       "    <tr>\n",
       "      <th>Theater</th>\n",
       "      <td>50.315421</td>\n",
       "      <td>4293.059484</td>\n",
       "      <td>28198.256242</td>\n",
       "      <td>34.698358</td>\n",
       "      <td>93.043866</td>\n",
       "    </tr>\n",
       "  </tbody>\n",
       "</table>\n",
       "</div>"
      ],
      "text/plain": [
       "                  backers  usd_pledged_real  usd_goal_real  duration_in_days  \\\n",
       "main_category                                                                  \n",
       "Art             43.028999       3306.613835   32925.693900         32.519923   \n",
       "Comics         141.334119       7072.704378   22111.481514         33.252413   \n",
       "Crafts          29.869886       1720.494546   10689.841682         30.326865   \n",
       "Dance           45.671314       3695.297280    9345.089622         32.085812   \n",
       "Design         269.816598      26732.962466   44079.063067         34.377317   \n",
       "Fashion         67.794561       6079.896657   22524.952777         31.956585   \n",
       "Film & Video    70.861658       6659.951323   80393.303565         35.368514   \n",
       "Food            59.306504       5648.474497   36526.483657         33.071310   \n",
       "Games          375.685988      24947.336634   49400.623648         31.709693   \n",
       "Journalism      40.248870       2815.561096  102191.030305         33.725141   \n",
       "Music           56.888061       4087.055214   15831.124693         34.960729   \n",
       "Photography     40.139459       3662.672882   12742.446358         33.159990   \n",
       "Publishing      56.247400       3361.632477   26743.173264         33.165605   \n",
       "Technology     198.787669      25789.472505  100281.630275         34.491789   \n",
       "Theater         50.315421       4293.059484   28198.256242         34.698358   \n",
       "\n",
       "               percent_pledged  \n",
       "main_category                   \n",
       "Art                 284.482705  \n",
       "Comics              736.199278  \n",
       "Crafts              299.849722  \n",
       "Dance                83.767937  \n",
       "Design              215.730583  \n",
       "Fashion             111.301232  \n",
       "Film & Video        171.904246  \n",
       "Food                 94.050394  \n",
       "Games               926.028269  \n",
       "Journalism           37.628180  \n",
       "Music               901.011986  \n",
       "Photography          61.658090  \n",
       "Publishing          210.190161  \n",
       "Technology          372.309389  \n",
       "Theater              93.043866  "
      ]
     },
     "execution_count": 72,
     "metadata": {},
     "output_type": "execute_result"
    }
   ],
   "source": [
    "df_us.groupby('main_category').mean()"
   ]
  },
  {
   "cell_type": "code",
   "execution_count": 119,
   "id": "a42bc1bb",
   "metadata": {},
   "outputs": [
    {
     "data": {
      "text/html": [
       "<div>\n",
       "<style scoped>\n",
       "    .dataframe tbody tr th:only-of-type {\n",
       "        vertical-align: middle;\n",
       "    }\n",
       "\n",
       "    .dataframe tbody tr th {\n",
       "        vertical-align: top;\n",
       "    }\n",
       "\n",
       "    .dataframe thead th {\n",
       "        text-align: right;\n",
       "    }\n",
       "</style>\n",
       "<table border=\"1\" class=\"dataframe\">\n",
       "  <thead>\n",
       "    <tr style=\"text-align: right;\">\n",
       "      <th></th>\n",
       "      <th>backers</th>\n",
       "      <th>usd_pledged_real</th>\n",
       "      <th>usd_goal_real</th>\n",
       "      <th>percent_pledged</th>\n",
       "    </tr>\n",
       "    <tr>\n",
       "      <th>category</th>\n",
       "      <th></th>\n",
       "      <th></th>\n",
       "      <th></th>\n",
       "      <th></th>\n",
       "    </tr>\n",
       "  </thead>\n",
       "  <tbody>\n",
       "    <tr>\n",
       "      <th>3D Printing</th>\n",
       "      <td>299.968059</td>\n",
       "      <td>88990.022408</td>\n",
       "      <td>49346.154791</td>\n",
       "      <td>211.271320</td>\n",
       "    </tr>\n",
       "    <tr>\n",
       "      <th>Academic</th>\n",
       "      <td>44.276699</td>\n",
       "      <td>3162.870065</td>\n",
       "      <td>70089.813916</td>\n",
       "      <td>190.749184</td>\n",
       "    </tr>\n",
       "    <tr>\n",
       "      <th>Accessories</th>\n",
       "      <td>90.644433</td>\n",
       "      <td>6827.443912</td>\n",
       "      <td>14928.683049</td>\n",
       "      <td>119.314139</td>\n",
       "    </tr>\n",
       "    <tr>\n",
       "      <th>Action</th>\n",
       "      <td>58.080979</td>\n",
       "      <td>4231.197740</td>\n",
       "      <td>240611.815443</td>\n",
       "      <td>55.574830</td>\n",
       "    </tr>\n",
       "    <tr>\n",
       "      <th>Animals</th>\n",
       "      <td>40.962025</td>\n",
       "      <td>2187.025886</td>\n",
       "      <td>12256.075949</td>\n",
       "      <td>68.042201</td>\n",
       "    </tr>\n",
       "    <tr>\n",
       "      <th>...</th>\n",
       "      <td>...</td>\n",
       "      <td>...</td>\n",
       "      <td>...</td>\n",
       "      <td>...</td>\n",
       "    </tr>\n",
       "    <tr>\n",
       "      <th>Woodworking</th>\n",
       "      <td>20.609493</td>\n",
       "      <td>1613.554466</td>\n",
       "      <td>11352.288026</td>\n",
       "      <td>303.126607</td>\n",
       "    </tr>\n",
       "    <tr>\n",
       "      <th>Workshops</th>\n",
       "      <td>21.983333</td>\n",
       "      <td>1655.653667</td>\n",
       "      <td>10668.041667</td>\n",
       "      <td>45.641617</td>\n",
       "    </tr>\n",
       "    <tr>\n",
       "      <th>World Music</th>\n",
       "      <td>58.402143</td>\n",
       "      <td>4592.354828</td>\n",
       "      <td>33704.216300</td>\n",
       "      <td>68.111375</td>\n",
       "    </tr>\n",
       "    <tr>\n",
       "      <th>Young Adult</th>\n",
       "      <td>21.096248</td>\n",
       "      <td>1466.217553</td>\n",
       "      <td>11528.719413</td>\n",
       "      <td>597.997415</td>\n",
       "    </tr>\n",
       "    <tr>\n",
       "      <th>Zines</th>\n",
       "      <td>56.316742</td>\n",
       "      <td>2542.455113</td>\n",
       "      <td>13846.443439</td>\n",
       "      <td>115.016908</td>\n",
       "    </tr>\n",
       "  </tbody>\n",
       "</table>\n",
       "<p>159 rows × 4 columns</p>\n",
       "</div>"
      ],
      "text/plain": [
       "                backers  usd_pledged_real  usd_goal_real  percent_pledged\n",
       "category                                                                 \n",
       "3D Printing  299.968059      88990.022408   49346.154791       211.271320\n",
       "Academic      44.276699       3162.870065   70089.813916       190.749184\n",
       "Accessories   90.644433       6827.443912   14928.683049       119.314139\n",
       "Action        58.080979       4231.197740  240611.815443        55.574830\n",
       "Animals       40.962025       2187.025886   12256.075949        68.042201\n",
       "...                 ...               ...            ...              ...\n",
       "Woodworking   20.609493       1613.554466   11352.288026       303.126607\n",
       "Workshops     21.983333       1655.653667   10668.041667        45.641617\n",
       "World Music   58.402143       4592.354828   33704.216300        68.111375\n",
       "Young Adult   21.096248       1466.217553   11528.719413       597.997415\n",
       "Zines         56.316742       2542.455113   13846.443439       115.016908\n",
       "\n",
       "[159 rows x 4 columns]"
      ]
     },
     "execution_count": 119,
     "metadata": {},
     "output_type": "execute_result"
    }
   ],
   "source": [
    "df_us.groupby('category').mean()"
   ]
  },
  {
   "cell_type": "code",
   "execution_count": 124,
   "id": "9f59e324",
   "metadata": {},
   "outputs": [
    {
     "data": {
      "text/html": [
       "<div>\n",
       "<style scoped>\n",
       "    .dataframe tbody tr th:only-of-type {\n",
       "        vertical-align: middle;\n",
       "    }\n",
       "\n",
       "    .dataframe tbody tr th {\n",
       "        vertical-align: top;\n",
       "    }\n",
       "\n",
       "    .dataframe thead th {\n",
       "        text-align: right;\n",
       "    }\n",
       "</style>\n",
       "<table border=\"1\" class=\"dataframe\">\n",
       "  <thead>\n",
       "    <tr style=\"text-align: right;\">\n",
       "      <th></th>\n",
       "      <th>backers</th>\n",
       "      <th>usd_pledged_real</th>\n",
       "      <th>usd_goal_real</th>\n",
       "      <th>percent_pledged</th>\n",
       "    </tr>\n",
       "    <tr>\n",
       "      <th>state</th>\n",
       "      <th></th>\n",
       "      <th></th>\n",
       "      <th></th>\n",
       "      <th></th>\n",
       "    </tr>\n",
       "  </thead>\n",
       "  <tbody>\n",
       "    <tr>\n",
       "      <th>canceled</th>\n",
       "      <td>25.820670</td>\n",
       "      <td>2317.801194</td>\n",
       "      <td>76293.964894</td>\n",
       "      <td>103.073911</td>\n",
       "    </tr>\n",
       "    <tr>\n",
       "      <th>failed</th>\n",
       "      <td>16.772118</td>\n",
       "      <td>1331.173917</td>\n",
       "      <td>60664.242108</td>\n",
       "      <td>9.247504</td>\n",
       "    </tr>\n",
       "    <tr>\n",
       "      <th>live</th>\n",
       "      <td>77.495402</td>\n",
       "      <td>6352.720575</td>\n",
       "      <td>84039.947701</td>\n",
       "      <td>395.825101</td>\n",
       "    </tr>\n",
       "    <tr>\n",
       "      <th>successful</th>\n",
       "      <td>270.177952</td>\n",
       "      <td>23212.887104</td>\n",
       "      <td>9695.670955</td>\n",
       "      <td>962.726786</td>\n",
       "    </tr>\n",
       "    <tr>\n",
       "      <th>suspended</th>\n",
       "      <td>117.960526</td>\n",
       "      <td>11119.731497</td>\n",
       "      <td>242796.605263</td>\n",
       "      <td>131.603517</td>\n",
       "    </tr>\n",
       "  </tbody>\n",
       "</table>\n",
       "</div>"
      ],
      "text/plain": [
       "               backers  usd_pledged_real  usd_goal_real  percent_pledged\n",
       "state                                                                   \n",
       "canceled     25.820670       2317.801194   76293.964894       103.073911\n",
       "failed       16.772118       1331.173917   60664.242108         9.247504\n",
       "live         77.495402       6352.720575   84039.947701       395.825101\n",
       "successful  270.177952      23212.887104    9695.670955       962.726786\n",
       "suspended   117.960526      11119.731497  242796.605263       131.603517"
      ]
     },
     "execution_count": 124,
     "metadata": {},
     "output_type": "execute_result"
    }
   ],
   "source": [
    "df_us.groupby('state').mean()"
   ]
  },
  {
   "cell_type": "markdown",
   "id": "098fe6c5",
   "metadata": {},
   "source": [
    "# Correlation Matrix\n",
    "Correlation tells us how strong the relationship is"
   ]
  },
  {
   "cell_type": "code",
   "execution_count": 126,
   "id": "c2fdc095",
   "metadata": {},
   "outputs": [
    {
     "data": {
      "text/html": [
       "<div>\n",
       "<style scoped>\n",
       "    .dataframe tbody tr th:only-of-type {\n",
       "        vertical-align: middle;\n",
       "    }\n",
       "\n",
       "    .dataframe tbody tr th {\n",
       "        vertical-align: top;\n",
       "    }\n",
       "\n",
       "    .dataframe thead th {\n",
       "        text-align: right;\n",
       "    }\n",
       "</style>\n",
       "<table border=\"1\" class=\"dataframe\">\n",
       "  <thead>\n",
       "    <tr style=\"text-align: right;\">\n",
       "      <th></th>\n",
       "      <th>backers</th>\n",
       "      <th>usd_pledged_real</th>\n",
       "      <th>usd_goal_real</th>\n",
       "      <th>percent_pledged</th>\n",
       "    </tr>\n",
       "  </thead>\n",
       "  <tbody>\n",
       "    <tr>\n",
       "      <th>backers</th>\n",
       "      <td>1.000000</td>\n",
       "      <td>0.754823</td>\n",
       "      <td>0.005271</td>\n",
       "      <td>0.016782</td>\n",
       "    </tr>\n",
       "    <tr>\n",
       "      <th>usd_pledged_real</th>\n",
       "      <td>0.754823</td>\n",
       "      <td>1.000000</td>\n",
       "      <td>0.006060</td>\n",
       "      <td>0.008661</td>\n",
       "    </tr>\n",
       "    <tr>\n",
       "      <th>usd_goal_real</th>\n",
       "      <td>0.005271</td>\n",
       "      <td>0.006060</td>\n",
       "      <td>1.000000</td>\n",
       "      <td>-0.000468</td>\n",
       "    </tr>\n",
       "    <tr>\n",
       "      <th>percent_pledged</th>\n",
       "      <td>0.016782</td>\n",
       "      <td>0.008661</td>\n",
       "      <td>-0.000468</td>\n",
       "      <td>1.000000</td>\n",
       "    </tr>\n",
       "  </tbody>\n",
       "</table>\n",
       "</div>"
      ],
      "text/plain": [
       "                   backers  usd_pledged_real  usd_goal_real  percent_pledged\n",
       "backers           1.000000          0.754823       0.005271         0.016782\n",
       "usd_pledged_real  0.754823          1.000000       0.006060         0.008661\n",
       "usd_goal_real     0.005271          0.006060       1.000000        -0.000468\n",
       "percent_pledged   0.016782          0.008661      -0.000468         1.000000"
      ]
     },
     "execution_count": 126,
     "metadata": {},
     "output_type": "execute_result"
    },
    {
     "data": {
      "image/png": "[encoded data removed]",
      "text/plain": [
       "<Figure size 432x288 with 2 Axes>"
      ]
     },
     "metadata": {
      "needs_background": "light"
     },
     "output_type": "display_data"
    }
   ],
   "source": [
    "#What features correlate the most with success or other features? \n",
    "corr=df_us.corr()\n",
    "sns.heatmap(corr,\n",
    "           xticklabels=corr.columns.values,\n",
    "           yticklabels=corr.columns.values)\n",
    "plt.title('Heatmap of Correlation Matrix')\n",
    "corr"
   ]
  },
  {
   "cell_type": "markdown",
   "id": "d330f10c",
   "metadata": {},
   "source": [
    "## There is a high correlation between the number of backers and the amount pledged "
   ]
  },
  {
   "cell_type": "markdown",
   "id": "0688a86b",
   "metadata": {},
   "source": [
    "# (Find the p-value)"
   ]
  },
  {
   "cell_type": "code",
   "execution_count": 352,
   "id": "016dfe6d",
   "metadata": {},
   "outputs": [
    {
     "data": {
      "text/plain": [
       "0.7548234979124591"
      ]
     },
     "execution_count": 352,
     "metadata": {},
     "output_type": "execute_result"
    }
   ],
   "source": [
    "import scipy as sc\n",
    "from scipy import stats\n",
    "pearson_coef,p_value=stats.pearsonr(df_us.backers,df_us.usd_pledged_real)\n",
    "pearson_coef"
   ]
  },
  {
   "cell_type": "code",
   "execution_count": 353,
   "id": "5c34b874",
   "metadata": {},
   "outputs": [
    {
     "data": {
      "text/plain": [
       "0.0"
      ]
     },
     "execution_count": 353,
     "metadata": {},
     "output_type": "execute_result"
    }
   ],
   "source": [
    "p_value"
   ]
  },
  {
   "cell_type": "code",
   "execution_count": null,
   "id": "24aa76dc",
   "metadata": {},
   "outputs": [],
   "source": []
  },
  {
   "cell_type": "code",
   "execution_count": 354,
   "id": "9e5e2108",
   "metadata": {},
   "outputs": [
    {
     "data": {
      "text/plain": [
       "1.0"
      ]
     },
     "execution_count": 354,
     "metadata": {},
     "output_type": "execute_result"
    }
   ],
   "source": [
    "pearson_coef3,p_value3=stats.pearsonr(df_us.backers,df_us.backers)\n",
    "pearson_coef3"
   ]
  },
  {
   "cell_type": "code",
   "execution_count": 355,
   "id": "4d55b6d6",
   "metadata": {},
   "outputs": [
    {
     "data": {
      "text/plain": [
       "0.0"
      ]
     },
     "execution_count": 355,
     "metadata": {},
     "output_type": "execute_result"
    }
   ],
   "source": [
    "p_value3"
   ]
  },
  {
   "cell_type": "markdown",
   "id": "815c5669",
   "metadata": {},
   "source": [
    "Adding a new column launched_year which is the year that a project was launched"
   ]
  },
  {
   "cell_type": "code",
   "execution_count": 304,
   "id": "62b4fa1a",
   "metadata": {},
   "outputs": [],
   "source": [
    "df_us['launched_year']=df_us['launched'].dt.year"
   ]
  },
  {
   "cell_type": "code",
   "execution_count": 305,
   "id": "81d96f4c",
   "metadata": {},
   "outputs": [
    {
     "data": {
      "text/plain": [
       "1         2017\n",
       "2         2013\n",
       "3         2012\n",
       "4         2015\n",
       "5         2016\n",
       "          ... \n",
       "378656    2014\n",
       "378657    2011\n",
       "378658    2010\n",
       "378659    2016\n",
       "378660    2011\n",
       "Name: launched_year, Length: 292627, dtype: int64"
      ]
     },
     "execution_count": 305,
     "metadata": {},
     "output_type": "execute_result"
    }
   ],
   "source": [
    "df_us['launched_year']"
   ]
  },
  {
   "cell_type": "code",
   "execution_count": 138,
   "id": "ab07c70b",
   "metadata": {},
   "outputs": [
    {
     "data": {
      "text/html": [
       "<div>\n",
       "<style scoped>\n",
       "    .dataframe tbody tr th:only-of-type {\n",
       "        vertical-align: middle;\n",
       "    }\n",
       "\n",
       "    .dataframe tbody tr th {\n",
       "        vertical-align: top;\n",
       "    }\n",
       "\n",
       "    .dataframe thead th {\n",
       "        text-align: right;\n",
       "    }\n",
       "</style>\n",
       "<table border=\"1\" class=\"dataframe\">\n",
       "  <thead>\n",
       "    <tr style=\"text-align: right;\">\n",
       "      <th></th>\n",
       "      <th>name</th>\n",
       "      <th>category</th>\n",
       "      <th>main_category</th>\n",
       "      <th>currency</th>\n",
       "      <th>deadline</th>\n",
       "      <th>launched</th>\n",
       "      <th>state</th>\n",
       "      <th>backers</th>\n",
       "      <th>country</th>\n",
       "      <th>usd_pledged_real</th>\n",
       "      <th>usd_goal_real</th>\n",
       "      <th>duration_in_days</th>\n",
       "      <th>percent_pledged</th>\n",
       "      <th>launched_year</th>\n",
       "    </tr>\n",
       "  </thead>\n",
       "  <tbody>\n",
       "    <tr>\n",
       "      <th>1</th>\n",
       "      <td>Greeting From Earth: ZGAC Arts Capsule For ET</td>\n",
       "      <td>Narrative Film</td>\n",
       "      <td>Film &amp; Video</td>\n",
       "      <td>USD</td>\n",
       "      <td>2017-11-01</td>\n",
       "      <td>2017-09-02 04:43:57</td>\n",
       "      <td>failed</td>\n",
       "      <td>15</td>\n",
       "      <td>US</td>\n",
       "      <td>2421.0</td>\n",
       "      <td>30000.0</td>\n",
       "      <td>59</td>\n",
       "      <td>8.070000</td>\n",
       "      <td>2017</td>\n",
       "    </tr>\n",
       "    <tr>\n",
       "      <th>2</th>\n",
       "      <td>Where is Hank?</td>\n",
       "      <td>Narrative Film</td>\n",
       "      <td>Film &amp; Video</td>\n",
       "      <td>USD</td>\n",
       "      <td>2013-02-26</td>\n",
       "      <td>2013-01-12 00:20:50</td>\n",
       "      <td>failed</td>\n",
       "      <td>3</td>\n",
       "      <td>US</td>\n",
       "      <td>220.0</td>\n",
       "      <td>45000.0</td>\n",
       "      <td>44</td>\n",
       "      <td>0.488889</td>\n",
       "      <td>2013</td>\n",
       "    </tr>\n",
       "    <tr>\n",
       "      <th>3</th>\n",
       "      <td>ToshiCapital Rekordz Needs Help to Complete Album</td>\n",
       "      <td>Music</td>\n",
       "      <td>Music</td>\n",
       "      <td>USD</td>\n",
       "      <td>2012-04-16</td>\n",
       "      <td>2012-03-17 03:24:11</td>\n",
       "      <td>failed</td>\n",
       "      <td>1</td>\n",
       "      <td>US</td>\n",
       "      <td>1.0</td>\n",
       "      <td>5000.0</td>\n",
       "      <td>29</td>\n",
       "      <td>0.020000</td>\n",
       "      <td>2012</td>\n",
       "    </tr>\n",
       "    <tr>\n",
       "      <th>4</th>\n",
       "      <td>Community Film Project: The Art of Neighborhoo...</td>\n",
       "      <td>Film &amp; Video</td>\n",
       "      <td>Film &amp; Video</td>\n",
       "      <td>USD</td>\n",
       "      <td>2015-08-29</td>\n",
       "      <td>2015-07-04 08:35:03</td>\n",
       "      <td>canceled</td>\n",
       "      <td>14</td>\n",
       "      <td>US</td>\n",
       "      <td>1283.0</td>\n",
       "      <td>19500.0</td>\n",
       "      <td>55</td>\n",
       "      <td>6.579487</td>\n",
       "      <td>2015</td>\n",
       "    </tr>\n",
       "    <tr>\n",
       "      <th>5</th>\n",
       "      <td>Monarch Espresso Bar</td>\n",
       "      <td>Restaurants</td>\n",
       "      <td>Food</td>\n",
       "      <td>USD</td>\n",
       "      <td>2016-04-01</td>\n",
       "      <td>2016-02-26 13:38:27</td>\n",
       "      <td>successful</td>\n",
       "      <td>224</td>\n",
       "      <td>US</td>\n",
       "      <td>52375.0</td>\n",
       "      <td>50000.0</td>\n",
       "      <td>34</td>\n",
       "      <td>104.750000</td>\n",
       "      <td>2016</td>\n",
       "    </tr>\n",
       "  </tbody>\n",
       "</table>\n",
       "</div>"
      ],
      "text/plain": [
       "                                                name        category  \\\n",
       "1      Greeting From Earth: ZGAC Arts Capsule For ET  Narrative Film   \n",
       "2                                     Where is Hank?  Narrative Film   \n",
       "3  ToshiCapital Rekordz Needs Help to Complete Album           Music   \n",
       "4  Community Film Project: The Art of Neighborhoo...    Film & Video   \n",
       "5                               Monarch Espresso Bar     Restaurants   \n",
       "\n",
       "  main_category currency   deadline            launched       state  backers  \\\n",
       "1  Film & Video      USD 2017-11-01 2017-09-02 04:43:57      failed       15   \n",
       "2  Film & Video      USD 2013-02-26 2013-01-12 00:20:50      failed        3   \n",
       "3         Music      USD 2012-04-16 2012-03-17 03:24:11      failed        1   \n",
       "4  Film & Video      USD 2015-08-29 2015-07-04 08:35:03    canceled       14   \n",
       "5          Food      USD 2016-04-01 2016-02-26 13:38:27  successful      224   \n",
       "\n",
       "  country  usd_pledged_real  usd_goal_real  duration_in_days  percent_pledged  \\\n",
       "1      US            2421.0        30000.0                59         8.070000   \n",
       "2      US             220.0        45000.0                44         0.488889   \n",
       "3      US               1.0         5000.0                29         0.020000   \n",
       "4      US            1283.0        19500.0                55         6.579487   \n",
       "5      US           52375.0        50000.0                34       104.750000   \n",
       "\n",
       "   launched_year  \n",
       "1           2017  \n",
       "2           2013  \n",
       "3           2012  \n",
       "4           2015  \n",
       "5           2016  "
      ]
     },
     "execution_count": 138,
     "metadata": {},
     "output_type": "execute_result"
    }
   ],
   "source": [
    "df_us.head()"
   ]
  },
  {
   "cell_type": "code",
   "execution_count": 347,
   "id": "a910eff1",
   "metadata": {},
   "outputs": [
    {
     "data": {
      "text/plain": [
       "launched_year\n",
       "1970        6\n",
       "2009     1329\n",
       "2010    10519\n",
       "2011    26237\n",
       "2012    40547\n",
       "2013    38687\n",
       "2014    50769\n",
       "2015    53543\n",
       "2016    38030\n",
       "2017    32878\n",
       "2018       82\n",
       "Name: launched, dtype: int64"
      ]
     },
     "execution_count": 347,
     "metadata": {},
     "output_type": "execute_result"
    }
   ],
   "source": [
    "num_projects_launched_per_year=\\\n",
    "df_us.groupby('launched_year')['launched'].count()\n",
    "num_projects_launched_per_year"
   ]
  },
  {
   "cell_type": "code",
   "execution_count": 348,
   "id": "419cd18f",
   "metadata": {},
   "outputs": [
    {
     "data": {
      "text/plain": [
       "launched_year\n",
       "2009     1329\n",
       "2010    10519\n",
       "2011    26237\n",
       "2012    40547\n",
       "2013    38687\n",
       "2014    50769\n",
       "2015    53543\n",
       "2016    38030\n",
       "2017    32878\n",
       "Name: launched, dtype: int64"
      ]
     },
     "execution_count": 348,
     "metadata": {},
     "output_type": "execute_result"
    }
   ],
   "source": [
    "#Since there're only full-year worth of data from the year 2009 to 2017, \n",
    "#the data from the year 1970 & 2008 were filtered out from the following graph below\n",
    "#(i.e. Number of projects by year)\n",
    "num_projects_launched_per_year[(num_projects_launched_per_year.index!=1970)&(num_projects_launched_per_year.index!=2018)]"
   ]
  },
  {
   "cell_type": "code",
   "execution_count": 314,
   "id": "e65ef8cb",
   "metadata": {
    "scrolled": true
   },
   "outputs": [
    {
     "data": {
      "text/plain": [
       "Text(0.5, 0, 'Year')"
      ]
     },
     "execution_count": 314,
     "metadata": {},
     "output_type": "execute_result"
    },
    {
     "data": {
      "image/png": "[encoded data removed]",
      "text/plain": [
       "<Figure size 432x288 with 1 Axes>"
      ]
     },
     "metadata": {
      "needs_background": "light"
     },
     "output_type": "display_data"
    }
   ],
   "source": [
    "num_projects_launched_per_year[(num_projects_launched_per_year.index!=1970)&(num_projects_launched_per_year.index!=2018)].plot(kind='bar',color='#87c442')\n",
    "plt.title('Number of Projects Launched By Year')\n",
    "plt.xlabel('Year')"
   ]
  },
  {
   "cell_type": "code",
   "execution_count": null,
   "id": "95a2e5f7",
   "metadata": {},
   "outputs": [],
   "source": []
  },
  {
   "cell_type": "code",
   "execution_count": 23,
   "id": "bd8c0306",
   "metadata": {
    "scrolled": true
   },
   "outputs": [
    {
     "data": {
      "text/html": [
       "<div>\n",
       "<style scoped>\n",
       "    .dataframe tbody tr th:only-of-type {\n",
       "        vertical-align: middle;\n",
       "    }\n",
       "\n",
       "    .dataframe tbody tr th {\n",
       "        vertical-align: top;\n",
       "    }\n",
       "\n",
       "    .dataframe thead th {\n",
       "        text-align: right;\n",
       "    }\n",
       "</style>\n",
       "<table border=\"1\" class=\"dataframe\">\n",
       "  <thead>\n",
       "    <tr style=\"text-align: right;\">\n",
       "      <th></th>\n",
       "      <th>name</th>\n",
       "      <th>category</th>\n",
       "      <th>main_category</th>\n",
       "      <th>currency</th>\n",
       "      <th>deadline</th>\n",
       "      <th>launched</th>\n",
       "      <th>state</th>\n",
       "      <th>backers</th>\n",
       "      <th>country</th>\n",
       "      <th>usd_pledged_real</th>\n",
       "      <th>usd_goal_real</th>\n",
       "      <th>duration_in_days</th>\n",
       "      <th>percent_pledged</th>\n",
       "      <th>launched_year</th>\n",
       "    </tr>\n",
       "  </thead>\n",
       "  <tbody>\n",
       "    <tr>\n",
       "      <th>169268</th>\n",
       "      <td>Grace Jones Does Not Give A F$#% T-Shirt (limi...</td>\n",
       "      <td>Fashion</td>\n",
       "      <td>Fashion</td>\n",
       "      <td>USD</td>\n",
       "      <td>2009-05-31</td>\n",
       "      <td>2009-04-21 21:02:48</td>\n",
       "      <td>failed</td>\n",
       "      <td>30</td>\n",
       "      <td>US</td>\n",
       "      <td>625.00</td>\n",
       "      <td>1000.0</td>\n",
       "      <td>39</td>\n",
       "      <td>62.500000</td>\n",
       "      <td>2009</td>\n",
       "    </tr>\n",
       "    <tr>\n",
       "      <th>322000</th>\n",
       "      <td>CRYSTAL ANTLERS UNTITLED MOVIE</td>\n",
       "      <td>Shorts</td>\n",
       "      <td>Film &amp; Video</td>\n",
       "      <td>USD</td>\n",
       "      <td>2009-07-20</td>\n",
       "      <td>2009-04-23 00:07:53</td>\n",
       "      <td>failed</td>\n",
       "      <td>3</td>\n",
       "      <td>US</td>\n",
       "      <td>22.00</td>\n",
       "      <td>80000.0</td>\n",
       "      <td>87</td>\n",
       "      <td>0.027500</td>\n",
       "      <td>2009</td>\n",
       "    </tr>\n",
       "    <tr>\n",
       "      <th>138572</th>\n",
       "      <td>drawing for dollars</td>\n",
       "      <td>Illustration</td>\n",
       "      <td>Art</td>\n",
       "      <td>USD</td>\n",
       "      <td>2009-05-03</td>\n",
       "      <td>2009-04-24 21:52:03</td>\n",
       "      <td>successful</td>\n",
       "      <td>3</td>\n",
       "      <td>US</td>\n",
       "      <td>35.00</td>\n",
       "      <td>20.0</td>\n",
       "      <td>8</td>\n",
       "      <td>175.000000</td>\n",
       "      <td>2009</td>\n",
       "    </tr>\n",
       "    <tr>\n",
       "      <th>325391</th>\n",
       "      <td>Offline Wikipedia iPhone app</td>\n",
       "      <td>Software</td>\n",
       "      <td>Technology</td>\n",
       "      <td>USD</td>\n",
       "      <td>2009-07-14</td>\n",
       "      <td>2009-04-25 17:36:21</td>\n",
       "      <td>successful</td>\n",
       "      <td>25</td>\n",
       "      <td>US</td>\n",
       "      <td>145.00</td>\n",
       "      <td>99.0</td>\n",
       "      <td>79</td>\n",
       "      <td>146.464646</td>\n",
       "      <td>2009</td>\n",
       "    </tr>\n",
       "    <tr>\n",
       "      <th>122662</th>\n",
       "      <td>Pantshirts</td>\n",
       "      <td>Fashion</td>\n",
       "      <td>Fashion</td>\n",
       "      <td>USD</td>\n",
       "      <td>2009-05-26</td>\n",
       "      <td>2009-04-27 14:10:39</td>\n",
       "      <td>failed</td>\n",
       "      <td>10</td>\n",
       "      <td>US</td>\n",
       "      <td>387.00</td>\n",
       "      <td>1900.0</td>\n",
       "      <td>28</td>\n",
       "      <td>20.368421</td>\n",
       "      <td>2009</td>\n",
       "    </tr>\n",
       "    <tr>\n",
       "      <th>213711</th>\n",
       "      <td>New York Makes a Book!!</td>\n",
       "      <td>Journalism</td>\n",
       "      <td>Journalism</td>\n",
       "      <td>USD</td>\n",
       "      <td>2009-05-16</td>\n",
       "      <td>2009-04-28 13:55:41</td>\n",
       "      <td>successful</td>\n",
       "      <td>110</td>\n",
       "      <td>US</td>\n",
       "      <td>3329.00</td>\n",
       "      <td>3000.0</td>\n",
       "      <td>17</td>\n",
       "      <td>110.966667</td>\n",
       "      <td>2009</td>\n",
       "    </tr>\n",
       "    <tr>\n",
       "      <th>345606</th>\n",
       "      <td>Web Site for Short Horror Film</td>\n",
       "      <td>Shorts</td>\n",
       "      <td>Film &amp; Video</td>\n",
       "      <td>USD</td>\n",
       "      <td>2009-05-29</td>\n",
       "      <td>2009-04-29 02:04:21</td>\n",
       "      <td>failed</td>\n",
       "      <td>3</td>\n",
       "      <td>US</td>\n",
       "      <td>41.00</td>\n",
       "      <td>200.0</td>\n",
       "      <td>29</td>\n",
       "      <td>20.500000</td>\n",
       "      <td>2009</td>\n",
       "    </tr>\n",
       "    <tr>\n",
       "      <th>235255</th>\n",
       "      <td>Help me write my second novel.</td>\n",
       "      <td>Fiction</td>\n",
       "      <td>Publishing</td>\n",
       "      <td>USD</td>\n",
       "      <td>2009-05-29</td>\n",
       "      <td>2009-04-29 02:58:50</td>\n",
       "      <td>successful</td>\n",
       "      <td>18</td>\n",
       "      <td>US</td>\n",
       "      <td>563.00</td>\n",
       "      <td>500.0</td>\n",
       "      <td>29</td>\n",
       "      <td>112.600000</td>\n",
       "      <td>2009</td>\n",
       "    </tr>\n",
       "    <tr>\n",
       "      <th>98954</th>\n",
       "      <td>Produce a Play (Canceled)</td>\n",
       "      <td>Theater</td>\n",
       "      <td>Theater</td>\n",
       "      <td>USD</td>\n",
       "      <td>2009-06-01</td>\n",
       "      <td>2009-04-29 04:37:37</td>\n",
       "      <td>canceled</td>\n",
       "      <td>0</td>\n",
       "      <td>US</td>\n",
       "      <td>0.00</td>\n",
       "      <td>500.0</td>\n",
       "      <td>32</td>\n",
       "      <td>0.000000</td>\n",
       "      <td>2009</td>\n",
       "    </tr>\n",
       "    <tr>\n",
       "      <th>342226</th>\n",
       "      <td>Sponsor Dereck Blackburn (Lostwars) Artist in ...</td>\n",
       "      <td>Rock</td>\n",
       "      <td>Music</td>\n",
       "      <td>USD</td>\n",
       "      <td>2009-05-16</td>\n",
       "      <td>2009-04-29 05:26:32</td>\n",
       "      <td>failed</td>\n",
       "      <td>2</td>\n",
       "      <td>US</td>\n",
       "      <td>15.00</td>\n",
       "      <td>300.0</td>\n",
       "      <td>16</td>\n",
       "      <td>5.000000</td>\n",
       "      <td>2009</td>\n",
       "    </tr>\n",
       "    <tr>\n",
       "      <th>275091</th>\n",
       "      <td>kicey to iceland</td>\n",
       "      <td>Photography</td>\n",
       "      <td>Photography</td>\n",
       "      <td>USD</td>\n",
       "      <td>2009-06-17</td>\n",
       "      <td>2009-04-29 06:43:44</td>\n",
       "      <td>successful</td>\n",
       "      <td>31</td>\n",
       "      <td>US</td>\n",
       "      <td>1630.00</td>\n",
       "      <td>350.0</td>\n",
       "      <td>48</td>\n",
       "      <td>465.714286</td>\n",
       "      <td>2009</td>\n",
       "    </tr>\n",
       "    <tr>\n",
       "      <th>284115</th>\n",
       "      <td>Crossword Puzzles!</td>\n",
       "      <td>Puzzles</td>\n",
       "      <td>Games</td>\n",
       "      <td>USD</td>\n",
       "      <td>2009-06-30</td>\n",
       "      <td>2009-04-29 13:52:03</td>\n",
       "      <td>successful</td>\n",
       "      <td>163</td>\n",
       "      <td>US</td>\n",
       "      <td>2265.00</td>\n",
       "      <td>1500.0</td>\n",
       "      <td>61</td>\n",
       "      <td>151.000000</td>\n",
       "      <td>2009</td>\n",
       "    </tr>\n",
       "    <tr>\n",
       "      <th>32898</th>\n",
       "      <td>Smogr Alert Field Recording</td>\n",
       "      <td>Graphic Design</td>\n",
       "      <td>Design</td>\n",
       "      <td>USD</td>\n",
       "      <td>2009-07-04</td>\n",
       "      <td>2009-04-29 22:08:13</td>\n",
       "      <td>failed</td>\n",
       "      <td>3</td>\n",
       "      <td>US</td>\n",
       "      <td>41.00</td>\n",
       "      <td>640.0</td>\n",
       "      <td>65</td>\n",
       "      <td>6.406250</td>\n",
       "      <td>2009</td>\n",
       "    </tr>\n",
       "    <tr>\n",
       "      <th>153308</th>\n",
       "      <td>Icons for your iPhone apps</td>\n",
       "      <td>Software</td>\n",
       "      <td>Technology</td>\n",
       "      <td>USD</td>\n",
       "      <td>2009-06-15</td>\n",
       "      <td>2009-04-29 23:11:15</td>\n",
       "      <td>successful</td>\n",
       "      <td>98</td>\n",
       "      <td>US</td>\n",
       "      <td>1820.00</td>\n",
       "      <td>500.0</td>\n",
       "      <td>46</td>\n",
       "      <td>364.000000</td>\n",
       "      <td>2009</td>\n",
       "    </tr>\n",
       "    <tr>\n",
       "      <th>19561</th>\n",
       "      <td>Logical Guess Pictures' 2nd Horror Movie!</td>\n",
       "      <td>Film &amp; Video</td>\n",
       "      <td>Film &amp; Video</td>\n",
       "      <td>USD</td>\n",
       "      <td>2009-06-06</td>\n",
       "      <td>2009-04-30 01:32:55</td>\n",
       "      <td>successful</td>\n",
       "      <td>22</td>\n",
       "      <td>US</td>\n",
       "      <td>501.66</td>\n",
       "      <td>500.0</td>\n",
       "      <td>36</td>\n",
       "      <td>100.332000</td>\n",
       "      <td>2009</td>\n",
       "    </tr>\n",
       "    <tr>\n",
       "      <th>225159</th>\n",
       "      <td>You Are Among Friends: a book for the little s...</td>\n",
       "      <td>Publishing</td>\n",
       "      <td>Publishing</td>\n",
       "      <td>USD</td>\n",
       "      <td>2009-07-01</td>\n",
       "      <td>2009-04-30 07:14:06</td>\n",
       "      <td>successful</td>\n",
       "      <td>41</td>\n",
       "      <td>US</td>\n",
       "      <td>750.00</td>\n",
       "      <td>350.0</td>\n",
       "      <td>61</td>\n",
       "      <td>214.285714</td>\n",
       "      <td>2009</td>\n",
       "    </tr>\n",
       "    <tr>\n",
       "      <th>28960</th>\n",
       "      <td>\"All We Had\" Gets Into Cannes -- $10 or More G...</td>\n",
       "      <td>Documentary</td>\n",
       "      <td>Film &amp; Video</td>\n",
       "      <td>USD</td>\n",
       "      <td>2009-05-20</td>\n",
       "      <td>2009-04-30 22:10:30</td>\n",
       "      <td>failed</td>\n",
       "      <td>4</td>\n",
       "      <td>US</td>\n",
       "      <td>40.00</td>\n",
       "      <td>300.0</td>\n",
       "      <td>19</td>\n",
       "      <td>13.333333</td>\n",
       "      <td>2009</td>\n",
       "    </tr>\n",
       "    <tr>\n",
       "      <th>59959</th>\n",
       "      <td>Accidental to Edinburgh - PHASE 1: AIRFARE</td>\n",
       "      <td>Theater</td>\n",
       "      <td>Theater</td>\n",
       "      <td>USD</td>\n",
       "      <td>2009-06-05</td>\n",
       "      <td>2009-04-30 22:22:43</td>\n",
       "      <td>successful</td>\n",
       "      <td>24</td>\n",
       "      <td>US</td>\n",
       "      <td>6575.00</td>\n",
       "      <td>6000.0</td>\n",
       "      <td>35</td>\n",
       "      <td>109.583333</td>\n",
       "      <td>2009</td>\n",
       "    </tr>\n",
       "    <tr>\n",
       "      <th>157553</th>\n",
       "      <td>Accidental to Edinburgh - PHASE 1: REBUILDING ...</td>\n",
       "      <td>Theater</td>\n",
       "      <td>Theater</td>\n",
       "      <td>USD</td>\n",
       "      <td>2009-07-15</td>\n",
       "      <td>2009-04-30 22:23:22</td>\n",
       "      <td>successful</td>\n",
       "      <td>27</td>\n",
       "      <td>US</td>\n",
       "      <td>10145.00</td>\n",
       "      <td>10000.0</td>\n",
       "      <td>75</td>\n",
       "      <td>101.450000</td>\n",
       "      <td>2009</td>\n",
       "    </tr>\n",
       "    <tr>\n",
       "      <th>359589</th>\n",
       "      <td>Produce My Play</td>\n",
       "      <td>Theater</td>\n",
       "      <td>Theater</td>\n",
       "      <td>USD</td>\n",
       "      <td>2009-06-01</td>\n",
       "      <td>2009-05-01 05:06:19</td>\n",
       "      <td>successful</td>\n",
       "      <td>21</td>\n",
       "      <td>US</td>\n",
       "      <td>575.00</td>\n",
       "      <td>500.0</td>\n",
       "      <td>30</td>\n",
       "      <td>115.000000</td>\n",
       "      <td>2009</td>\n",
       "    </tr>\n",
       "  </tbody>\n",
       "</table>\n",
       "</div>"
      ],
      "text/plain": [
       "                                                     name        category  \\\n",
       "169268  Grace Jones Does Not Give A F$#% T-Shirt (limi...         Fashion   \n",
       "322000                     CRYSTAL ANTLERS UNTITLED MOVIE          Shorts   \n",
       "138572                                drawing for dollars    Illustration   \n",
       "325391                       Offline Wikipedia iPhone app        Software   \n",
       "122662                                         Pantshirts         Fashion   \n",
       "213711                            New York Makes a Book!!      Journalism   \n",
       "345606                     Web Site for Short Horror Film          Shorts   \n",
       "235255                     Help me write my second novel.         Fiction   \n",
       "98954                           Produce a Play (Canceled)         Theater   \n",
       "342226  Sponsor Dereck Blackburn (Lostwars) Artist in ...            Rock   \n",
       "275091                                   kicey to iceland     Photography   \n",
       "284115                                 Crossword Puzzles!         Puzzles   \n",
       "32898                         Smogr Alert Field Recording  Graphic Design   \n",
       "153308                         Icons for your iPhone apps        Software   \n",
       "19561           Logical Guess Pictures' 2nd Horror Movie!    Film & Video   \n",
       "225159  You Are Among Friends: a book for the little s...      Publishing   \n",
       "28960   \"All We Had\" Gets Into Cannes -- $10 or More G...     Documentary   \n",
       "59959          Accidental to Edinburgh - PHASE 1: AIRFARE         Theater   \n",
       "157553  Accidental to Edinburgh - PHASE 1: REBUILDING ...         Theater   \n",
       "359589                                    Produce My Play         Theater   \n",
       "\n",
       "       main_category currency   deadline            launched       state  \\\n",
       "169268       Fashion      USD 2009-05-31 2009-04-21 21:02:48      failed   \n",
       "322000  Film & Video      USD 2009-07-20 2009-04-23 00:07:53      failed   \n",
       "138572           Art      USD 2009-05-03 2009-04-24 21:52:03  successful   \n",
       "325391    Technology      USD 2009-07-14 2009-04-25 17:36:21  successful   \n",
       "122662       Fashion      USD 2009-05-26 2009-04-27 14:10:39      failed   \n",
       "213711    Journalism      USD 2009-05-16 2009-04-28 13:55:41  successful   \n",
       "345606  Film & Video      USD 2009-05-29 2009-04-29 02:04:21      failed   \n",
       "235255    Publishing      USD 2009-05-29 2009-04-29 02:58:50  successful   \n",
       "98954        Theater      USD 2009-06-01 2009-04-29 04:37:37    canceled   \n",
       "342226         Music      USD 2009-05-16 2009-04-29 05:26:32      failed   \n",
       "275091   Photography      USD 2009-06-17 2009-04-29 06:43:44  successful   \n",
       "284115         Games      USD 2009-06-30 2009-04-29 13:52:03  successful   \n",
       "32898         Design      USD 2009-07-04 2009-04-29 22:08:13      failed   \n",
       "153308    Technology      USD 2009-06-15 2009-04-29 23:11:15  successful   \n",
       "19561   Film & Video      USD 2009-06-06 2009-04-30 01:32:55  successful   \n",
       "225159    Publishing      USD 2009-07-01 2009-04-30 07:14:06  successful   \n",
       "28960   Film & Video      USD 2009-05-20 2009-04-30 22:10:30      failed   \n",
       "59959        Theater      USD 2009-06-05 2009-04-30 22:22:43  successful   \n",
       "157553       Theater      USD 2009-07-15 2009-04-30 22:23:22  successful   \n",
       "359589       Theater      USD 2009-06-01 2009-05-01 05:06:19  successful   \n",
       "\n",
       "        backers country  usd_pledged_real  usd_goal_real  duration_in_days  \\\n",
       "169268       30      US            625.00         1000.0                39   \n",
       "322000        3      US             22.00        80000.0                87   \n",
       "138572        3      US             35.00           20.0                 8   \n",
       "325391       25      US            145.00           99.0                79   \n",
       "122662       10      US            387.00         1900.0                28   \n",
       "213711      110      US           3329.00         3000.0                17   \n",
       "345606        3      US             41.00          200.0                29   \n",
       "235255       18      US            563.00          500.0                29   \n",
       "98954         0      US              0.00          500.0                32   \n",
       "342226        2      US             15.00          300.0                16   \n",
       "275091       31      US           1630.00          350.0                48   \n",
       "284115      163      US           2265.00         1500.0                61   \n",
       "32898         3      US             41.00          640.0                65   \n",
       "153308       98      US           1820.00          500.0                46   \n",
       "19561        22      US            501.66          500.0                36   \n",
       "225159       41      US            750.00          350.0                61   \n",
       "28960         4      US             40.00          300.0                19   \n",
       "59959        24      US           6575.00         6000.0                35   \n",
       "157553       27      US          10145.00        10000.0                75   \n",
       "359589       21      US            575.00          500.0                30   \n",
       "\n",
       "        percent_pledged  launched_year  \n",
       "169268        62.500000           2009  \n",
       "322000         0.027500           2009  \n",
       "138572       175.000000           2009  \n",
       "325391       146.464646           2009  \n",
       "122662        20.368421           2009  \n",
       "213711       110.966667           2009  \n",
       "345606        20.500000           2009  \n",
       "235255       112.600000           2009  \n",
       "98954          0.000000           2009  \n",
       "342226         5.000000           2009  \n",
       "275091       465.714286           2009  \n",
       "284115       151.000000           2009  \n",
       "32898          6.406250           2009  \n",
       "153308       364.000000           2009  \n",
       "19561        100.332000           2009  \n",
       "225159       214.285714           2009  \n",
       "28960         13.333333           2009  \n",
       "59959        109.583333           2009  \n",
       "157553       101.450000           2009  \n",
       "359589       115.000000           2009  "
      ]
     },
     "execution_count": 23,
     "metadata": {},
     "output_type": "execute_result"
    }
   ],
   "source": [
    "df_us[df_us['launched_year']==2009].sort_values('launched').head(20)\n",
    "#full-year data from the year of 2009-2017"
   ]
  },
  {
   "cell_type": "markdown",
   "id": "1f84674d",
   "metadata": {},
   "source": [
    "# EDA2"
   ]
  },
  {
   "cell_type": "code",
   "execution_count": 299,
   "id": "a120b74a",
   "metadata": {},
   "outputs": [
    {
     "data": {
      "text/plain": [
       "Text(0, 0.5, 'Main Category')"
      ]
     },
     "execution_count": 299,
     "metadata": {},
     "output_type": "execute_result"
    },
    {
     "data": {
      "image/png": "[encoded data removed]",
      "text/plain": [
       "<Figure size 432x288 with 1 Axes>"
      ]
     },
     "metadata": {
      "needs_background": "light"
     },
     "output_type": "display_data"
    }
   ],
   "source": [
    "df_main_cat = df_us.groupby('main_category')['launched'].count()\n",
    "# df_main_cat.plot(kind='bar')\n",
    "df_main_cat.sort_values().plot(kind='barh',color='#87c442')\n",
    "plt.title('Number of Projects Launched By Main Category')\n",
    "plt.xlabel('Number of Projects')\n",
    "plt.ylabel('Main Category')"
   ]
  },
  {
   "cell_type": "code",
   "execution_count": 346,
   "id": "c245c10d",
   "metadata": {},
   "outputs": [
    {
     "data": {
      "text/plain": [
       "Text(0, 0.5, 'Main Category')"
      ]
     },
     "execution_count": 346,
     "metadata": {},
     "output_type": "execute_result"
    },
    {
     "data": {
      "image/png": "[encoded data removed]",
      "text/plain": [
       "<Figure size 432x288 with 1 Axes>"
      ]
     },
     "metadata": {
      "needs_background": "light"
     },
     "output_type": "display_data"
    }
   ],
   "source": [
    "#Royce\n",
    "df_main_cat = (df_us.groupby('main_category')['launched'].count())/292627\n",
    "\n",
    "df_main_cat.sort_values().plot(kind='barh',color='#87c442')\n",
    "plt.title('Percentage of Projects Launched By Main Category')\n",
    "plt.xlabel('Percentage of Projects')\n",
    "plt.ylabel('Main Category')"
   ]
  },
  {
   "cell_type": "code",
   "execution_count": null,
   "id": "5027b52f",
   "metadata": {},
   "outputs": [],
   "source": [
    "#df['column name'] = df['column name'].replace(['old value'],'new value')"
   ]
  },
  {
   "cell_type": "markdown",
   "id": "8282284a",
   "metadata": {},
   "source": [
    "# EDA3"
   ]
  },
  {
   "cell_type": "code",
   "execution_count": 110,
   "id": "c4d81586",
   "metadata": {},
   "outputs": [],
   "source": [
    "df_success=df_us.copy()"
   ]
  },
  {
   "cell_type": "code",
   "execution_count": 111,
   "id": "f4a28216",
   "metadata": {},
   "outputs": [
    {
     "data": {
      "text/plain": [
       "1           failed\n",
       "2           failed\n",
       "3           failed\n",
       "4         canceled\n",
       "5             True\n",
       "            ...   \n",
       "378656    canceled\n",
       "378657      failed\n",
       "378658      failed\n",
       "378659      failed\n",
       "378660      failed\n",
       "Name: state, Length: 292627, dtype: object"
      ]
     },
     "execution_count": 111,
     "metadata": {},
     "output_type": "execute_result"
    }
   ],
   "source": [
    "df_success.state=df_success.state.replace(['successful'],True)\n",
    "df_success.state"
   ]
  },
  {
   "cell_type": "code",
   "execution_count": 112,
   "id": "1a99dcb8",
   "metadata": {},
   "outputs": [
    {
     "data": {
      "text/plain": [
       "failed        152061\n",
       "successful    109299\n",
       "canceled       28311\n",
       "live            1740\n",
       "suspended       1216\n",
       "Name: state, dtype: int64"
      ]
     },
     "execution_count": 112,
     "metadata": {},
     "output_type": "execute_result"
    }
   ],
   "source": [
    "df_us.state.value_counts()"
   ]
  },
  {
   "cell_type": "code",
   "execution_count": 114,
   "id": "653a7493",
   "metadata": {
    "scrolled": true
   },
   "outputs": [
    {
     "data": {
      "text/plain": [
       "failed       152061\n",
       "True         109299\n",
       "canceled      28311\n",
       "live           1740\n",
       "suspended      1216\n",
       "Name: state, dtype: int64"
      ]
     },
     "execution_count": 114,
     "metadata": {},
     "output_type": "execute_result"
    }
   ],
   "source": [
    "df_success.state.value_counts()"
   ]
  },
  {
   "cell_type": "code",
   "execution_count": 115,
   "id": "0f883333",
   "metadata": {},
   "outputs": [],
   "source": [
    "df_success.state=df_success.state.replace(['failed'],False)\n",
    "df_success.state=df_success.state.replace(['canceled'],False)\n",
    "df_success.state=df_success.state.replace(['live'],False)\n",
    "df_success.state=df_success.state.replace(['suspended'],False)"
   ]
  },
  {
   "cell_type": "code",
   "execution_count": 117,
   "id": "9bee3939",
   "metadata": {},
   "outputs": [
    {
     "data": {
      "text/plain": [
       "False    183328\n",
       "True     109299\n",
       "Name: state, dtype: int64"
      ]
     },
     "execution_count": 117,
     "metadata": {},
     "output_type": "execute_result"
    }
   ],
   "source": [
    "df_success.state.value_counts()"
   ]
  },
  {
   "cell_type": "code",
   "execution_count": 129,
   "id": "98ef0dc2",
   "metadata": {
    "scrolled": true
   },
   "outputs": [
    {
     "data": {
      "text/plain": [
       "main_category\n",
       "Art             0.425620\n",
       "Comics          0.540965\n",
       "Crafts          0.246691\n",
       "Dance           0.646840\n",
       "Design          0.354126\n",
       "Fashion         0.248432\n",
       "Film & Video    0.380995\n",
       "Food            0.268291\n",
       "Games           0.379769\n",
       "Journalism      0.225424\n",
       "Music           0.502290\n",
       "Photography     0.318102\n",
       "Publishing      0.314096\n",
       "Technology      0.219104\n",
       "Theater         0.599495\n",
       "Name: state, dtype: float64"
      ]
     },
     "execution_count": 129,
     "metadata": {},
     "output_type": "execute_result"
    }
   ],
   "source": [
    "df_success.groupby('main_category').state.mean()"
   ]
  },
  {
   "cell_type": "code",
   "execution_count": 287,
   "id": "a232beb0",
   "metadata": {},
   "outputs": [
    {
     "data": {
      "text/plain": [
       "Text(0, 0.5, 'Main Category')"
      ]
     },
     "execution_count": 287,
     "metadata": {},
     "output_type": "execute_result"
    },
    {
     "data": {
      "image/png": "[encoded data removed]",
      "text/plain": [
       "<Figure size 432x288 with 1 Axes>"
      ]
     },
     "metadata": {
      "needs_background": "light"
     },
     "output_type": "display_data"
    }
   ],
   "source": [
    "df_success.groupby('main_category').state.mean().sort_values().plot(kind='barh',color='#85bb65')\n",
    "plt.title('Success Rate by Main Category')\n",
    "plt.xlabel('Success Rate in Percentage')\n",
    "plt.ylabel('Main Category')"
   ]
  },
  {
   "cell_type": "code",
   "execution_count": 131,
   "id": "38079c7d",
   "metadata": {},
   "outputs": [],
   "source": [
    "df_success_minus_fail=df_success.groupby('main_category').state.mean()-df_fail.groupby('main_category').state.mean()"
   ]
  },
  {
   "cell_type": "code",
   "execution_count": 133,
   "id": "2b9f5b9c",
   "metadata": {},
   "outputs": [
    {
     "data": {
      "text/plain": [
       "main_category\n",
       "Dance           0.339219\n",
       "Theater         0.258124\n",
       "Comics          0.166218\n",
       "Music           0.074263\n",
       "Games          -0.061577\n",
       "Art            -0.065304\n",
       "Film & Video   -0.141924\n",
       "Design         -0.143983\n",
       "Photography    -0.268778\n",
       "Publishing     -0.275704\n",
       "Food           -0.367735\n",
       "Fashion        -0.379643\n",
       "Technology     -0.399518\n",
       "Crafts         -0.403580\n",
       "Journalism     -0.427401\n",
       "Name: state, dtype: float64"
      ]
     },
     "execution_count": 133,
     "metadata": {},
     "output_type": "execute_result"
    }
   ],
   "source": [
    "df_success_minus_fail.sort_values(ascending=False)"
   ]
  },
  {
   "cell_type": "code",
   "execution_count": null,
   "id": "e0927cef",
   "metadata": {},
   "outputs": [],
   "source": [
    "#more winners than losers"
   ]
  },
  {
   "cell_type": "code",
   "execution_count": 356,
   "id": "eac271b0",
   "metadata": {},
   "outputs": [
    {
     "data": {
      "text/plain": [
       "Text(0, 0.5, 'Main Category')"
      ]
     },
     "execution_count": 356,
     "metadata": {},
     "output_type": "execute_result"
    },
    {
     "data": {
      "image/png": "[encoded data removed]",
      "text/plain": [
       "<Figure size 432x288 with 1 Axes>"
      ]
     },
     "metadata": {
      "needs_background": "light"
     },
     "output_type": "display_data"
    }
   ],
   "source": [
    "plt.title('Net Success Rate by Main Category')\n",
    "plt.xlabel('Net Success Rate=Success Rate Minus Failure Rate')\n",
    "####need some work Royce\n",
    "def bar_color(df,color1,color2):\n",
    "    return np.where(df.values>0,color1,color2).T\n",
    "\n",
    "df_success_minus_fail.sort_values().plot.barh(color=bar_color(df_success_minus_fail.sort_values(),'g','r'))\n",
    "plt.ylabel('Main Category')"
   ]
  },
  {
   "cell_type": "code",
   "execution_count": 357,
   "id": "78fd29da",
   "metadata": {},
   "outputs": [
    {
     "data": {
      "text/plain": [
       "Text(0.5, 0, 'Main Category')"
      ]
     },
     "execution_count": 357,
     "metadata": {},
     "output_type": "execute_result"
    },
    {
     "data": {
      "image/png": "[encoded data removed]",
      "text/plain": [
       "<Figure size 432x288 with 1 Axes>"
      ]
     },
     "metadata": {
      "needs_background": "light"
     },
     "output_type": "display_data"
    }
   ],
   "source": [
    "def bar_color(df,color1,color2):\n",
    "    return np.where(df.values>0,color1,color2).T\n",
    "\n",
    "\n",
    "df_success_minus_fail.sort_values(ascending=False).plot.bar(color=bar_color(df_success_minus_fail.sort_values(ascending=False),'g','r'))\n",
    "plt.title('Net Success Rate by Main Category')\n",
    "plt.ylabel('Net Success Rate=Success Rate Minus Failure Rate')\n",
    "plt.xlabel('Main Category')"
   ]
  },
  {
   "cell_type": "markdown",
   "id": "62ab283c",
   "metadata": {},
   "source": [
    "# Subplots - Success and Fail Rates"
   ]
  },
  {
   "cell_type": "code",
   "execution_count": null,
   "id": "47fc3a23",
   "metadata": {},
   "outputs": [],
   "source": []
  },
  {
   "cell_type": "code",
   "execution_count": null,
   "id": "6545648f",
   "metadata": {},
   "outputs": [],
   "source": []
  },
  {
   "cell_type": "code",
   "execution_count": 287,
   "id": "5e714948",
   "metadata": {},
   "outputs": [
    {
     "data": {
      "text/plain": [
       "Text(0, 0.5, 'Main Category')"
      ]
     },
     "execution_count": 287,
     "metadata": {},
     "output_type": "execute_result"
    },
    {
     "data": {
      "image/png": "[encoded data removed]",
      "text/plain": [
       "<Figure size 432x288 with 1 Axes>"
      ]
     },
     "metadata": {
      "needs_background": "light"
     },
     "output_type": "display_data"
    }
   ],
   "source": [
    "df_success.groupby('main_category').state.mean().sort_values().plot(kind='barh',color='#85bb65')\n",
    "plt.title('Success Rate by Main Category')\n",
    "plt.xlabel('Success Rate in Percentage')\n",
    "plt.ylabel('Main Category')"
   ]
  },
  {
   "cell_type": "code",
   "execution_count": 281,
   "id": "34db4bfd",
   "metadata": {},
   "outputs": [
    {
     "data": {
      "text/plain": [
       "Text(0, 0.5, 'Main Category')"
      ]
     },
     "execution_count": 281,
     "metadata": {},
     "output_type": "execute_result"
    },
    {
     "data": {
      "image/png": "[encoded data removed]",
      "text/plain": [
       "<Figure size 432x288 with 1 Axes>"
      ]
     },
     "metadata": {
      "needs_background": "light"
     },
     "output_type": "display_data"
    }
   ],
   "source": [
    "df_fail.groupby('main_category').state.mean().sort_values().plot(kind='barh',color='red')\n",
    "plt.title('Failure Rate by Main Category')\n",
    "plt.xlabel('Failure Rate in Percentage')\n",
    "plt.ylabel('Main Category')"
   ]
  },
  {
   "cell_type": "code",
   "execution_count": 361,
   "id": "d3ed1bc0",
   "metadata": {},
   "outputs": [
    {
     "data": {
      "text/plain": [
       "array([0.21910373, 0.22542373, 0.24669073, 0.24843222, 0.26829146,\n",
       "       0.31409569, 0.31810215, 0.35412633, 0.37976944, 0.38099457,\n",
       "       0.42561965, 0.50228965, 0.54096521, 0.59949478, 0.64684015])"
      ]
     },
     "execution_count": 361,
     "metadata": {},
     "output_type": "execute_result"
    }
   ],
   "source": [
    "df_success.groupby('main_category').state.mean().sort_values().values"
   ]
  },
  {
   "cell_type": "code",
   "execution_count": 366,
   "id": "c58782b8",
   "metadata": {},
   "outputs": [
    {
     "data": {
      "text/plain": [
       "main_category\n",
       "Art             0.425620\n",
       "Comics          0.540965\n",
       "Crafts          0.246691\n",
       "Dance           0.646840\n",
       "Design          0.354126\n",
       "Fashion         0.248432\n",
       "Film & Video    0.380995\n",
       "Food            0.268291\n",
       "Games           0.379769\n",
       "Journalism      0.225424\n",
       "Music           0.502290\n",
       "Photography     0.318102\n",
       "Publishing      0.314096\n",
       "Technology      0.219104\n",
       "Theater         0.599495\n",
       "Name: state, dtype: float64"
      ]
     },
     "execution_count": 366,
     "metadata": {},
     "output_type": "execute_result"
    }
   ],
   "source": [
    "df_success_subplot=df_success.groupby('main_category').state.mean()\n",
    "df_success_subplot"
   ]
  },
  {
   "cell_type": "code",
   "execution_count": 368,
   "id": "d6b17953",
   "metadata": {},
   "outputs": [
    {
     "data": {
      "text/plain": [
       "main_category\n",
       "Art             0.490924\n",
       "Comics          0.374747\n",
       "Crafts          0.650271\n",
       "Dance           0.307621\n",
       "Design          0.498110\n",
       "Fashion         0.628075\n",
       "Film & Video    0.522919\n",
       "Food            0.636026\n",
       "Games           0.441346\n",
       "Journalism      0.652825\n",
       "Music           0.428026\n",
       "Photography     0.586880\n",
       "Publishing      0.589800\n",
       "Technology      0.618621\n",
       "Theater         0.341371\n",
       "Name: state, dtype: float64"
      ]
     },
     "execution_count": 368,
     "metadata": {},
     "output_type": "execute_result"
    }
   ],
   "source": [
    "df_fail_subplot=df_fail.groupby('main_category').state.mean()\n",
    "df_fail_subplot"
   ]
  },
  {
   "cell_type": "code",
   "execution_count": null,
   "id": "efb33a28",
   "metadata": {},
   "outputs": [],
   "source": []
  },
  {
   "cell_type": "code",
   "execution_count": null,
   "id": "5519c2fe",
   "metadata": {},
   "outputs": [],
   "source": []
  },
  {
   "cell_type": "code",
   "execution_count": 399,
   "id": "3820e1e3",
   "metadata": {
    "scrolled": true
   },
   "outputs": [
    {
     "data": {
      "image/png": "[encoded data removed]",
      "text/plain": [
       "<Figure size 432x288 with 2 Axes>"
      ]
     },
     "metadata": {
      "needs_background": "light"
     },
     "output_type": "display_data"
    }
   ],
   "source": [
    "#You can do side by side but it's much harder\n",
    "import numpy as np # We're going to import np for np.arange().\n",
    "# np.arange(10) is similar to range(10), and it allows us to shift\n",
    "# each value in it by the bar width as you can see below.\n",
    "main_cat_axis = np.arange(15)\n",
    "\n",
    "# We need to create subplots in order to overlay two bar plots\n",
    "# with proper axes on the left hand side and the right hand side.\n",
    "fig, ax1 = plt.subplots()\n",
    "\n",
    "width = 0.3 # This is the width of each bar in the bar plot.\n",
    "plt.xticks(main_cat_axis, df_success_subplot.index, rotation='vertical')\n",
    "axis_success_rate = ax1.bar(main_cat_axis, df_success_subplot.values, width,color='green') # for the legend\n",
    "plt.ylabel('Success Rate') #y-asix label on the left \n",
    "\n",
    "# ax1.twinx() gives us the same x-axis with the y-axis on the right.\n",
    "ax2 = ax1.twinx()\n",
    "axis_failure_rate = ax2.bar(main_cat_axis + width, df_fail_subplot.values,\n",
    "              width, color='red') # for the legend\n",
    "plt.ylabel('Failure Rate') #y-asix label on the right \n",
    "plt.legend([axis_success_rate, axis_failure_rate],['Success Rate', 'Failure Rate'],loc='upper right')\n",
    "#plt.legend(bbox_to_anchor=(1.05, 1.0), loc='upper left')\n",
    "#plt.legend(loc='center left', bbox_to_anchor=(1, 0.5))\n",
    "##Google how to move hte legend out later ## Royce\n",
    "fig = plt.gcf() # get current figure\n",
    "plt.show()"
   ]
  },
  {
   "cell_type": "code",
   "execution_count": null,
   "id": "de1f8fba",
   "metadata": {},
   "outputs": [],
   "source": []
  },
  {
   "cell_type": "markdown",
   "id": "481bfac3",
   "metadata": {},
   "source": [
    "# EDA 3.2-Failure table only"
   ]
  },
  {
   "cell_type": "code",
   "execution_count": 120,
   "id": "b07208aa",
   "metadata": {},
   "outputs": [],
   "source": [
    "df_fail=df_us.copy()"
   ]
  },
  {
   "cell_type": "code",
   "execution_count": 121,
   "id": "c64fb08e",
   "metadata": {},
   "outputs": [
    {
     "data": {
      "text/plain": [
       "failed        152061\n",
       "successful    109299\n",
       "canceled       28311\n",
       "live            1740\n",
       "suspended       1216\n",
       "Name: state, dtype: int64"
      ]
     },
     "execution_count": 121,
     "metadata": {},
     "output_type": "execute_result"
    }
   ],
   "source": [
    "df_fail.state.value_counts()"
   ]
  },
  {
   "cell_type": "code",
   "execution_count": 122,
   "id": "1fdb9728",
   "metadata": {},
   "outputs": [
    {
     "data": {
      "text/plain": [
       "1               True\n",
       "2               True\n",
       "3               True\n",
       "4           canceled\n",
       "5         successful\n",
       "             ...    \n",
       "378656      canceled\n",
       "378657          True\n",
       "378658          True\n",
       "378659          True\n",
       "378660          True\n",
       "Name: state, Length: 292627, dtype: object"
      ]
     },
     "execution_count": 122,
     "metadata": {},
     "output_type": "execute_result"
    }
   ],
   "source": [
    "df_fail.state=df_fail.state.replace(['failed'],True)\n",
    "df_fail.state"
   ]
  },
  {
   "cell_type": "code",
   "execution_count": 123,
   "id": "180e224a",
   "metadata": {},
   "outputs": [
    {
     "data": {
      "text/plain": [
       "True          152061\n",
       "successful    109299\n",
       "canceled       28311\n",
       "live            1740\n",
       "suspended       1216\n",
       "Name: state, dtype: int64"
      ]
     },
     "execution_count": 123,
     "metadata": {},
     "output_type": "execute_result"
    }
   ],
   "source": [
    "df_fail.state.value_counts()"
   ]
  },
  {
   "cell_type": "code",
   "execution_count": 124,
   "id": "59f7ed0c",
   "metadata": {},
   "outputs": [],
   "source": [
    "df_fail.state=df_fail.state.replace(['successful'],False)\n",
    "df_fail.state=df_fail.state.replace(['canceled'],False)\n",
    "df_fail.state=df_fail.state.replace(['live'],False)\n",
    "df_fail.state=df_fail.state.replace(['suspended'],False)"
   ]
  },
  {
   "cell_type": "code",
   "execution_count": 125,
   "id": "ce3b7801",
   "metadata": {},
   "outputs": [
    {
     "data": {
      "text/plain": [
       "True     152061\n",
       "False    140566\n",
       "Name: state, dtype: int64"
      ]
     },
     "execution_count": 125,
     "metadata": {},
     "output_type": "execute_result"
    }
   ],
   "source": [
    "df_fail.state.value_counts()"
   ]
  },
  {
   "cell_type": "code",
   "execution_count": 127,
   "id": "4c06ee7b",
   "metadata": {},
   "outputs": [
    {
     "data": {
      "text/plain": [
       "failed        152061\n",
       "successful    109299\n",
       "canceled       28311\n",
       "live            1740\n",
       "suspended       1216\n",
       "Name: state, dtype: int64"
      ]
     },
     "execution_count": 127,
     "metadata": {},
     "output_type": "execute_result"
    }
   ],
   "source": [
    "df_us.state.value_counts() \n",
    "#check if the number of 'successful' in df_success and \n",
    "# the number of 'failed' in df_fail are the same as those in df_us"
   ]
  },
  {
   "cell_type": "code",
   "execution_count": 134,
   "id": "43a9ade2",
   "metadata": {},
   "outputs": [
    {
     "data": {
      "text/plain": [
       "main_category\n",
       "Dance           0.307621\n",
       "Theater         0.341371\n",
       "Comics          0.374747\n",
       "Music           0.428026\n",
       "Games           0.441346\n",
       "Art             0.490924\n",
       "Design          0.498110\n",
       "Film & Video    0.522919\n",
       "Photography     0.586880\n",
       "Publishing      0.589800\n",
       "Technology      0.618621\n",
       "Fashion         0.628075\n",
       "Food            0.636026\n",
       "Crafts          0.650271\n",
       "Journalism      0.652825\n",
       "Name: state, dtype: float64"
      ]
     },
     "execution_count": 134,
     "metadata": {},
     "output_type": "execute_result"
    }
   ],
   "source": [
    "df_fail.groupby('main_category').state.mean().sort_values()"
   ]
  },
  {
   "cell_type": "code",
   "execution_count": 129,
   "id": "5c0468b9",
   "metadata": {
    "scrolled": true
   },
   "outputs": [
    {
     "data": {
      "text/plain": [
       "main_category\n",
       "Art             0.425620\n",
       "Comics          0.540965\n",
       "Crafts          0.246691\n",
       "Dance           0.646840\n",
       "Design          0.354126\n",
       "Fashion         0.248432\n",
       "Film & Video    0.380995\n",
       "Food            0.268291\n",
       "Games           0.379769\n",
       "Journalism      0.225424\n",
       "Music           0.502290\n",
       "Photography     0.318102\n",
       "Publishing      0.314096\n",
       "Technology      0.219104\n",
       "Theater         0.599495\n",
       "Name: state, dtype: float64"
      ]
     },
     "execution_count": 129,
     "metadata": {},
     "output_type": "execute_result"
    }
   ],
   "source": [
    "df_success.groupby('main_category').state.mean()"
   ]
  },
  {
   "cell_type": "code",
   "execution_count": 281,
   "id": "e6a46bc6",
   "metadata": {},
   "outputs": [
    {
     "data": {
      "text/plain": [
       "Text(0, 0.5, 'Main Category')"
      ]
     },
     "execution_count": 281,
     "metadata": {},
     "output_type": "execute_result"
    },
    {
     "data": {
      "image/png": "[encoded data removed]",
      "text/plain": [
       "<Figure size 432x288 with 1 Axes>"
      ]
     },
     "metadata": {
      "needs_background": "light"
     },
     "output_type": "display_data"
    }
   ],
   "source": [
    "df_fail.groupby('main_category').state.mean().sort_values().plot(kind='barh',color='red')\n",
    "plt.title('Failure Rate by Main Category')\n",
    "plt.xlabel('Failure Rate in Percentage')\n",
    "plt.ylabel('Main Category')"
   ]
  },
  {
   "cell_type": "markdown",
   "id": "59f0aa3f",
   "metadata": {},
   "source": [
    "# EDA XXX"
   ]
  },
  {
   "cell_type": "code",
   "execution_count": null,
   "id": "534d054b",
   "metadata": {},
   "outputs": [],
   "source": []
  },
  {
   "cell_type": "code",
   "execution_count": null,
   "id": "83d13244",
   "metadata": {},
   "outputs": [],
   "source": []
  },
  {
   "cell_type": "code",
   "execution_count": null,
   "id": "1c4b96d5",
   "metadata": {},
   "outputs": [],
   "source": []
  },
  {
   "cell_type": "code",
   "execution_count": null,
   "id": "cb817ca1",
   "metadata": {},
   "outputs": [],
   "source": []
  },
  {
   "cell_type": "code",
   "execution_count": 69,
   "id": "8dbc8c3f",
   "metadata": {},
   "outputs": [
    {
     "data": {
      "text/html": [
       "<div>\n",
       "<style scoped>\n",
       "    .dataframe tbody tr th:only-of-type {\n",
       "        vertical-align: middle;\n",
       "    }\n",
       "\n",
       "    .dataframe tbody tr th {\n",
       "        vertical-align: top;\n",
       "    }\n",
       "\n",
       "    .dataframe thead th {\n",
       "        text-align: right;\n",
       "    }\n",
       "</style>\n",
       "<table border=\"1\" class=\"dataframe\">\n",
       "  <thead>\n",
       "    <tr style=\"text-align: right;\">\n",
       "      <th></th>\n",
       "      <th>backers</th>\n",
       "      <th>usd_pledged_real</th>\n",
       "    </tr>\n",
       "  </thead>\n",
       "  <tbody>\n",
       "    <tr>\n",
       "      <th>1</th>\n",
       "      <td>15</td>\n",
       "      <td>2421.0</td>\n",
       "    </tr>\n",
       "    <tr>\n",
       "      <th>2</th>\n",
       "      <td>3</td>\n",
       "      <td>220.0</td>\n",
       "    </tr>\n",
       "    <tr>\n",
       "      <th>3</th>\n",
       "      <td>1</td>\n",
       "      <td>1.0</td>\n",
       "    </tr>\n",
       "    <tr>\n",
       "      <th>4</th>\n",
       "      <td>14</td>\n",
       "      <td>1283.0</td>\n",
       "    </tr>\n",
       "    <tr>\n",
       "      <th>5</th>\n",
       "      <td>224</td>\n",
       "      <td>52375.0</td>\n",
       "    </tr>\n",
       "    <tr>\n",
       "      <th>...</th>\n",
       "      <td>...</td>\n",
       "      <td>...</td>\n",
       "    </tr>\n",
       "    <tr>\n",
       "      <th>378656</th>\n",
       "      <td>1</td>\n",
       "      <td>25.0</td>\n",
       "    </tr>\n",
       "    <tr>\n",
       "      <th>378657</th>\n",
       "      <td>5</td>\n",
       "      <td>155.0</td>\n",
       "    </tr>\n",
       "    <tr>\n",
       "      <th>378658</th>\n",
       "      <td>1</td>\n",
       "      <td>20.0</td>\n",
       "    </tr>\n",
       "    <tr>\n",
       "      <th>378659</th>\n",
       "      <td>6</td>\n",
       "      <td>200.0</td>\n",
       "    </tr>\n",
       "    <tr>\n",
       "      <th>378660</th>\n",
       "      <td>17</td>\n",
       "      <td>524.0</td>\n",
       "    </tr>\n",
       "  </tbody>\n",
       "</table>\n",
       "<p>292627 rows × 2 columns</p>\n",
       "</div>"
      ],
      "text/plain": [
       "        backers  usd_pledged_real\n",
       "1            15            2421.0\n",
       "2             3             220.0\n",
       "3             1               1.0\n",
       "4            14            1283.0\n",
       "5           224           52375.0\n",
       "...         ...               ...\n",
       "378656        1              25.0\n",
       "378657        5             155.0\n",
       "378658        1              20.0\n",
       "378659        6             200.0\n",
       "378660       17             524.0\n",
       "\n",
       "[292627 rows x 2 columns]"
      ]
     },
     "execution_count": 69,
     "metadata": {},
     "output_type": "execute_result"
    }
   ],
   "source": [
    "df_corr=df_us[['backers','usd_pledged_real']]\n",
    "df_corr"
   ]
  },
  {
   "cell_type": "code",
   "execution_count": 71,
   "id": "1f87c069",
   "metadata": {},
   "outputs": [
    {
     "data": {
      "text/html": [
       "<div>\n",
       "<style scoped>\n",
       "    .dataframe tbody tr th:only-of-type {\n",
       "        vertical-align: middle;\n",
       "    }\n",
       "\n",
       "    .dataframe tbody tr th {\n",
       "        vertical-align: top;\n",
       "    }\n",
       "\n",
       "    .dataframe thead th {\n",
       "        text-align: right;\n",
       "    }\n",
       "</style>\n",
       "<table border=\"1\" class=\"dataframe\">\n",
       "  <thead>\n",
       "    <tr style=\"text-align: right;\">\n",
       "      <th></th>\n",
       "      <th>backers</th>\n",
       "      <th>usd_pledged_real</th>\n",
       "    </tr>\n",
       "  </thead>\n",
       "  <tbody>\n",
       "    <tr>\n",
       "      <th>157270</th>\n",
       "      <td>78471</td>\n",
       "      <td>20338986.27</td>\n",
       "    </tr>\n",
       "    <tr>\n",
       "      <th>250254</th>\n",
       "      <td>62642</td>\n",
       "      <td>13285226.36</td>\n",
       "    </tr>\n",
       "    <tr>\n",
       "      <th>216629</th>\n",
       "      <td>66673</td>\n",
       "      <td>12779843.49</td>\n",
       "    </tr>\n",
       "    <tr>\n",
       "      <th>289915</th>\n",
       "      <td>19264</td>\n",
       "      <td>12393139.69</td>\n",
       "    </tr>\n",
       "    <tr>\n",
       "      <th>282416</th>\n",
       "      <td>68929</td>\n",
       "      <td>10266845.74</td>\n",
       "    </tr>\n",
       "    <tr>\n",
       "      <th>293861</th>\n",
       "      <td>44949</td>\n",
       "      <td>9192055.66</td>\n",
       "    </tr>\n",
       "    <tr>\n",
       "      <th>187652</th>\n",
       "      <td>219382</td>\n",
       "      <td>8782571.99</td>\n",
       "    </tr>\n",
       "    <tr>\n",
       "      <th>6665</th>\n",
       "      <td>63416</td>\n",
       "      <td>8596474.58</td>\n",
       "    </tr>\n",
       "    <tr>\n",
       "      <th>309630</th>\n",
       "      <td>43733</td>\n",
       "      <td>7072757.00</td>\n",
       "    </tr>\n",
       "    <tr>\n",
       "      <th>271276</th>\n",
       "      <td>26359</td>\n",
       "      <td>6565782.50</td>\n",
       "    </tr>\n",
       "  </tbody>\n",
       "</table>\n",
       "</div>"
      ],
      "text/plain": [
       "        backers  usd_pledged_real\n",
       "157270    78471       20338986.27\n",
       "250254    62642       13285226.36\n",
       "216629    66673       12779843.49\n",
       "289915    19264       12393139.69\n",
       "282416    68929       10266845.74\n",
       "293861    44949        9192055.66\n",
       "187652   219382        8782571.99\n",
       "6665      63416        8596474.58\n",
       "309630    43733        7072757.00\n",
       "271276    26359        6565782.50"
      ]
     },
     "execution_count": 71,
     "metadata": {},
     "output_type": "execute_result"
    }
   ],
   "source": [
    "df_corr.sort_values('usd_pledged_real',ascending=False).head(10)"
   ]
  },
  {
   "cell_type": "code",
   "execution_count": null,
   "id": "88428ab0",
   "metadata": {},
   "outputs": [],
   "source": [
    "plt.title('Backers and Money Raised in 2007')\n",
    "plt.xlabel('Number of Backers')\n",
    "plt.ylabel('Amount of Money Raised (USD)')"
   ]
  },
  {
   "cell_type": "code",
   "execution_count": 400,
   "id": "6601be38",
   "metadata": {},
   "outputs": [
    {
     "data": {
      "text/plain": [
       "<AxesSubplot:xlabel='backers', ylabel='usd_pledged_real'>"
      ]
     },
     "execution_count": 400,
     "metadata": {},
     "output_type": "execute_result"
    },
    {
     "data": {
      "image/png": "[encoded data removed]",
      "text/plain": [
       "<Figure size 432x288 with 1 Axes>"
      ]
     },
     "metadata": {
      "needs_background": "light"
     },
     "output_type": "display_data"
    }
   ],
   "source": [
    "import seaborn as sns\n",
    "sns.regplot(x='backers',y='usd_pledged_real',data=df_us,color='green',marker='+')"
   ]
  },
  {
   "cell_type": "code",
   "execution_count": 76,
   "id": "14d091b3",
   "metadata": {},
   "outputs": [
    {
     "data": {
      "text/plain": [
       "(0.0, 10000000.0)"
      ]
     },
     "execution_count": 76,
     "metadata": {},
     "output_type": "execute_result"
    },
    {
     "data": {
      "image/png": "[encoded data removed]",
      "text/plain": [
       "<Figure size 432x288 with 1 Axes>"
      ]
     },
     "metadata": {
      "needs_background": "light"
     },
     "output_type": "display_data"
    }
   ],
   "source": [
    "sns.regplot(x='backers',y='usd_pledged_real',data=df_us,color='green',marker='+')\n",
    "plt.xlim(0,50000)\n",
    "plt.ylim(0,10000000)"
   ]
  },
  {
   "cell_type": "code",
   "execution_count": 78,
   "id": "5a0a7c07",
   "metadata": {},
   "outputs": [
    {
     "data": {
      "text/plain": [
       "(0.0, 4000000.0)"
      ]
     },
     "execution_count": 78,
     "metadata": {},
     "output_type": "execute_result"
    },
    {
     "data": {
      "image/png": "[encoded data removed]",
      "text/plain": [
       "<Figure size 432x288 with 1 Axes>"
      ]
     },
     "metadata": {
      "needs_background": "light"
     },
     "output_type": "display_data"
    }
   ],
   "source": [
    "sns.regplot(x='backers',y='usd_pledged_real',data=df_us,color='green',marker='+')\n",
    "plt.xlim(0,20000)\n",
    "plt.ylim(0,4000000)"
   ]
  },
  {
   "cell_type": "markdown",
   "id": "02f60afe",
   "metadata": {},
   "source": [
    "# EDA4"
   ]
  },
  {
   "cell_type": "markdown",
   "id": "f226c6c1",
   "metadata": {},
   "source": [
    "Average Funding raised per category (successful projects only)\n",
    "# Need to turn on the 'state' column==True"
   ]
  },
  {
   "cell_type": "code",
   "execution_count": 144,
   "id": "173c25d7",
   "metadata": {},
   "outputs": [
    {
     "data": {
      "text/plain": [
       "False    183328\n",
       "True     109299\n",
       "Name: state, dtype: int64"
      ]
     },
     "execution_count": 144,
     "metadata": {},
     "output_type": "execute_result"
    }
   ],
   "source": [
    "df_success.state.value_counts()"
   ]
  },
  {
   "cell_type": "code",
   "execution_count": 162,
   "id": "48a3d48b",
   "metadata": {},
   "outputs": [
    {
     "data": {
      "text/html": [
       "<div>\n",
       "<style scoped>\n",
       "    .dataframe tbody tr th:only-of-type {\n",
       "        vertical-align: middle;\n",
       "    }\n",
       "\n",
       "    .dataframe tbody tr th {\n",
       "        vertical-align: top;\n",
       "    }\n",
       "\n",
       "    .dataframe thead th {\n",
       "        text-align: right;\n",
       "    }\n",
       "</style>\n",
       "<table border=\"1\" class=\"dataframe\">\n",
       "  <thead>\n",
       "    <tr style=\"text-align: right;\">\n",
       "      <th></th>\n",
       "      <th>name</th>\n",
       "      <th>category</th>\n",
       "      <th>main_category</th>\n",
       "      <th>currency</th>\n",
       "      <th>deadline</th>\n",
       "      <th>launched</th>\n",
       "      <th>state</th>\n",
       "      <th>backers</th>\n",
       "      <th>country</th>\n",
       "      <th>usd_pledged_real</th>\n",
       "      <th>usd_goal_real</th>\n",
       "      <th>duration_in_days</th>\n",
       "      <th>percent_pledged</th>\n",
       "    </tr>\n",
       "  </thead>\n",
       "  <tbody>\n",
       "    <tr>\n",
       "      <th>5</th>\n",
       "      <td>Monarch Espresso Bar</td>\n",
       "      <td>Restaurants</td>\n",
       "      <td>Food</td>\n",
       "      <td>USD</td>\n",
       "      <td>2016-04-01</td>\n",
       "      <td>2016-02-26 13:38:27</td>\n",
       "      <td>True</td>\n",
       "      <td>224</td>\n",
       "      <td>US</td>\n",
       "      <td>52375.00</td>\n",
       "      <td>50000.0</td>\n",
       "      <td>34</td>\n",
       "      <td>104.750000</td>\n",
       "    </tr>\n",
       "    <tr>\n",
       "      <th>6</th>\n",
       "      <td>Support Solar Roasted Coffee &amp; Green Energy!  ...</td>\n",
       "      <td>Food</td>\n",
       "      <td>Food</td>\n",
       "      <td>USD</td>\n",
       "      <td>2014-12-21</td>\n",
       "      <td>2014-12-01 18:30:44</td>\n",
       "      <td>True</td>\n",
       "      <td>16</td>\n",
       "      <td>US</td>\n",
       "      <td>1205.00</td>\n",
       "      <td>1000.0</td>\n",
       "      <td>19</td>\n",
       "      <td>120.500000</td>\n",
       "    </tr>\n",
       "    <tr>\n",
       "      <th>11</th>\n",
       "      <td>Lisa Lim New CD!</td>\n",
       "      <td>Indie Rock</td>\n",
       "      <td>Music</td>\n",
       "      <td>USD</td>\n",
       "      <td>2013-04-08</td>\n",
       "      <td>2013-03-09 06:42:58</td>\n",
       "      <td>True</td>\n",
       "      <td>100</td>\n",
       "      <td>US</td>\n",
       "      <td>12700.00</td>\n",
       "      <td>12500.0</td>\n",
       "      <td>29</td>\n",
       "      <td>101.600000</td>\n",
       "    </tr>\n",
       "    <tr>\n",
       "      <th>18</th>\n",
       "      <td>Mike Corey's Darkness &amp; Light Album</td>\n",
       "      <td>Music</td>\n",
       "      <td>Music</td>\n",
       "      <td>USD</td>\n",
       "      <td>2012-08-17</td>\n",
       "      <td>2012-08-02 14:11:32</td>\n",
       "      <td>True</td>\n",
       "      <td>7</td>\n",
       "      <td>US</td>\n",
       "      <td>250.00</td>\n",
       "      <td>250.0</td>\n",
       "      <td>14</td>\n",
       "      <td>100.000000</td>\n",
       "    </tr>\n",
       "    <tr>\n",
       "      <th>20</th>\n",
       "      <td>CMUK. Shoes: Take on Life Feet First.</td>\n",
       "      <td>Fashion</td>\n",
       "      <td>Fashion</td>\n",
       "      <td>USD</td>\n",
       "      <td>2013-12-30</td>\n",
       "      <td>2013-11-25 07:06:11</td>\n",
       "      <td>True</td>\n",
       "      <td>624</td>\n",
       "      <td>US</td>\n",
       "      <td>34268.00</td>\n",
       "      <td>20000.0</td>\n",
       "      <td>34</td>\n",
       "      <td>171.340000</td>\n",
       "    </tr>\n",
       "    <tr>\n",
       "      <th>...</th>\n",
       "      <td>...</td>\n",
       "      <td>...</td>\n",
       "      <td>...</td>\n",
       "      <td>...</td>\n",
       "      <td>...</td>\n",
       "      <td>...</td>\n",
       "      <td>...</td>\n",
       "      <td>...</td>\n",
       "      <td>...</td>\n",
       "      <td>...</td>\n",
       "      <td>...</td>\n",
       "      <td>...</td>\n",
       "      <td>...</td>\n",
       "    </tr>\n",
       "    <tr>\n",
       "      <th>378631</th>\n",
       "      <td>MONSTROCARDS- A Creative Drawing Game of Horri...</td>\n",
       "      <td>Playing Cards</td>\n",
       "      <td>Games</td>\n",
       "      <td>USD</td>\n",
       "      <td>2014-10-03</td>\n",
       "      <td>2014-09-03 19:53:50</td>\n",
       "      <td>True</td>\n",
       "      <td>413</td>\n",
       "      <td>US</td>\n",
       "      <td>13861.50</td>\n",
       "      <td>10000.0</td>\n",
       "      <td>29</td>\n",
       "      <td>138.615000</td>\n",
       "    </tr>\n",
       "    <tr>\n",
       "      <th>378637</th>\n",
       "      <td>Ways to Look at the Moon</td>\n",
       "      <td>Shorts</td>\n",
       "      <td>Film &amp; Video</td>\n",
       "      <td>USD</td>\n",
       "      <td>2017-10-13</td>\n",
       "      <td>2017-08-29 06:57:28</td>\n",
       "      <td>True</td>\n",
       "      <td>123</td>\n",
       "      <td>US</td>\n",
       "      <td>10245.00</td>\n",
       "      <td>10000.0</td>\n",
       "      <td>44</td>\n",
       "      <td>102.450000</td>\n",
       "    </tr>\n",
       "    <tr>\n",
       "      <th>378639</th>\n",
       "      <td>Superette Tea - Boldly Caffeinated Loose Leaf Tea</td>\n",
       "      <td>Drinks</td>\n",
       "      <td>Food</td>\n",
       "      <td>USD</td>\n",
       "      <td>2015-12-03</td>\n",
       "      <td>2015-11-03 13:04:14</td>\n",
       "      <td>True</td>\n",
       "      <td>103</td>\n",
       "      <td>US</td>\n",
       "      <td>5579.00</td>\n",
       "      <td>5000.0</td>\n",
       "      <td>29</td>\n",
       "      <td>111.580000</td>\n",
       "    </tr>\n",
       "    <tr>\n",
       "      <th>378644</th>\n",
       "      <td>The Manual Bar Blade</td>\n",
       "      <td>Product Design</td>\n",
       "      <td>Design</td>\n",
       "      <td>USD</td>\n",
       "      <td>2015-12-15</td>\n",
       "      <td>2015-11-23 07:33:14</td>\n",
       "      <td>True</td>\n",
       "      <td>120</td>\n",
       "      <td>US</td>\n",
       "      <td>6169.00</td>\n",
       "      <td>3500.0</td>\n",
       "      <td>21</td>\n",
       "      <td>176.257143</td>\n",
       "    </tr>\n",
       "    <tr>\n",
       "      <th>378646</th>\n",
       "      <td>The Dog Coffee Book</td>\n",
       "      <td>Children's Books</td>\n",
       "      <td>Publishing</td>\n",
       "      <td>USD</td>\n",
       "      <td>2013-11-30</td>\n",
       "      <td>2013-10-18 21:35:04</td>\n",
       "      <td>True</td>\n",
       "      <td>31</td>\n",
       "      <td>US</td>\n",
       "      <td>1732.02</td>\n",
       "      <td>950.0</td>\n",
       "      <td>42</td>\n",
       "      <td>182.317895</td>\n",
       "    </tr>\n",
       "  </tbody>\n",
       "</table>\n",
       "<p>109299 rows × 13 columns</p>\n",
       "</div>"
      ],
      "text/plain": [
       "                                                     name          category  \\\n",
       "5                                    Monarch Espresso Bar       Restaurants   \n",
       "6       Support Solar Roasted Coffee & Green Energy!  ...              Food   \n",
       "11                                       Lisa Lim New CD!        Indie Rock   \n",
       "18                    Mike Corey's Darkness & Light Album             Music   \n",
       "20                  CMUK. Shoes: Take on Life Feet First.           Fashion   \n",
       "...                                                   ...               ...   \n",
       "378631  MONSTROCARDS- A Creative Drawing Game of Horri...     Playing Cards   \n",
       "378637                           Ways to Look at the Moon            Shorts   \n",
       "378639  Superette Tea - Boldly Caffeinated Loose Leaf Tea            Drinks   \n",
       "378644                               The Manual Bar Blade    Product Design   \n",
       "378646                                The Dog Coffee Book  Children's Books   \n",
       "\n",
       "       main_category currency   deadline            launched  state  backers  \\\n",
       "5               Food      USD 2016-04-01 2016-02-26 13:38:27   True      224   \n",
       "6               Food      USD 2014-12-21 2014-12-01 18:30:44   True       16   \n",
       "11             Music      USD 2013-04-08 2013-03-09 06:42:58   True      100   \n",
       "18             Music      USD 2012-08-17 2012-08-02 14:11:32   True        7   \n",
       "20           Fashion      USD 2013-12-30 2013-11-25 07:06:11   True      624   \n",
       "...              ...      ...        ...                 ...    ...      ...   \n",
       "378631         Games      USD 2014-10-03 2014-09-03 19:53:50   True      413   \n",
       "378637  Film & Video      USD 2017-10-13 2017-08-29 06:57:28   True      123   \n",
       "378639          Food      USD 2015-12-03 2015-11-03 13:04:14   True      103   \n",
       "378644        Design      USD 2015-12-15 2015-11-23 07:33:14   True      120   \n",
       "378646    Publishing      USD 2013-11-30 2013-10-18 21:35:04   True       31   \n",
       "\n",
       "       country  usd_pledged_real  usd_goal_real  duration_in_days  \\\n",
       "5           US          52375.00        50000.0                34   \n",
       "6           US           1205.00         1000.0                19   \n",
       "11          US          12700.00        12500.0                29   \n",
       "18          US            250.00          250.0                14   \n",
       "20          US          34268.00        20000.0                34   \n",
       "...        ...               ...            ...               ...   \n",
       "378631      US          13861.50        10000.0                29   \n",
       "378637      US          10245.00        10000.0                44   \n",
       "378639      US           5579.00         5000.0                29   \n",
       "378644      US           6169.00         3500.0                21   \n",
       "378646      US           1732.02          950.0                42   \n",
       "\n",
       "        percent_pledged  \n",
       "5            104.750000  \n",
       "6            120.500000  \n",
       "11           101.600000  \n",
       "18           100.000000  \n",
       "20           171.340000  \n",
       "...                 ...  \n",
       "378631       138.615000  \n",
       "378637       102.450000  \n",
       "378639       111.580000  \n",
       "378644       176.257143  \n",
       "378646       182.317895  \n",
       "\n",
       "[109299 rows x 13 columns]"
      ]
     },
     "execution_count": 162,
     "metadata": {},
     "output_type": "execute_result"
    }
   ],
   "source": [
    "df_success[df_success['state']==True]"
   ]
  },
  {
   "cell_type": "code",
   "execution_count": 163,
   "id": "e48d8a5d",
   "metadata": {},
   "outputs": [
    {
     "data": {
      "text/plain": [
       "True    109299\n",
       "Name: state, dtype: int64"
      ]
     },
     "execution_count": 163,
     "metadata": {},
     "output_type": "execute_result"
    }
   ],
   "source": [
    "df_success[df_success['state']==True].state.value_counts()"
   ]
  },
  {
   "cell_type": "code",
   "execution_count": 161,
   "id": "b8d61b1e",
   "metadata": {},
   "outputs": [
    {
     "data": {
      "text/plain": [
       "main_category\n",
       "Technology      104317.680129\n",
       "Design           68928.169091\n",
       "Games            60753.195484\n",
       "Fashion          21631.635915\n",
       "Food             17847.168305\n",
       "Film & Video     14865.630768\n",
       "Comics           12193.533041\n",
       "Journalism       10390.669712\n",
       "Photography       9979.337033\n",
       "Publishing        9333.075867\n",
       "Music             7481.140029\n",
       "Art               6919.099444\n",
       "Theater           6422.144200\n",
       "Crafts            5850.091774\n",
       "Dance             5365.263123\n",
       "Name: usd_pledged_real, dtype: float64"
      ]
     },
     "execution_count": 161,
     "metadata": {},
     "output_type": "execute_result"
    }
   ],
   "source": [
    "df_success[df_success['state']==True].groupby('main_category').usd_pledged_real.mean().sort_values(ascending=False)"
   ]
  },
  {
   "cell_type": "markdown",
   "id": "2e28a125",
   "metadata": {},
   "source": [
    "EDA 5"
   ]
  },
  {
   "cell_type": "code",
   "execution_count": 359,
   "id": "a44afaec",
   "metadata": {
    "scrolled": false
   },
   "outputs": [
    {
     "data": {
      "text/plain": [
       "Text(0, 0.5, 'Number of Projects')"
      ]
     },
     "execution_count": 359,
     "metadata": {},
     "output_type": "execute_result"
    },
    {
     "data": {
      "image/png": "[encoded data removed]",
      "text/plain": [
       "<Figure size 432x288 with 1 Axes>"
      ]
     },
     "metadata": {
      "needs_background": "light"
     },
     "output_type": "display_data"
    }
   ],
   "source": [
    "df_success[df_success['state']==True].duration_in_days.value_counts().sort_values(ascending=False).head(10).plot(kind='bar',color='#87c442')\n",
    "plt.title('Duration in Days for Successful Projects')\n",
    "plt.xlabel('Number of Days')\n",
    "plt.ylabel('Number of Projects')"
   ]
  },
  {
   "cell_type": "markdown",
   "id": "97ee7781",
   "metadata": {},
   "source": [
    "# EDA 6"
   ]
  },
  {
   "cell_type": "code",
   "execution_count": 170,
   "id": "434cae74",
   "metadata": {},
   "outputs": [
    {
     "data": {
      "text/html": [
       "<div>\n",
       "<style scoped>\n",
       "    .dataframe tbody tr th:only-of-type {\n",
       "        vertical-align: middle;\n",
       "    }\n",
       "\n",
       "    .dataframe tbody tr th {\n",
       "        vertical-align: top;\n",
       "    }\n",
       "\n",
       "    .dataframe thead th {\n",
       "        text-align: right;\n",
       "    }\n",
       "</style>\n",
       "<table border=\"1\" class=\"dataframe\">\n",
       "  <thead>\n",
       "    <tr style=\"text-align: right;\">\n",
       "      <th></th>\n",
       "      <th>name</th>\n",
       "      <th>category</th>\n",
       "      <th>main_category</th>\n",
       "      <th>currency</th>\n",
       "      <th>deadline</th>\n",
       "      <th>launched</th>\n",
       "      <th>state</th>\n",
       "      <th>backers</th>\n",
       "      <th>country</th>\n",
       "      <th>usd_pledged_real</th>\n",
       "      <th>usd_goal_real</th>\n",
       "      <th>duration_in_days</th>\n",
       "      <th>percent_pledged</th>\n",
       "    </tr>\n",
       "  </thead>\n",
       "  <tbody>\n",
       "    <tr>\n",
       "      <th>1</th>\n",
       "      <td>Greeting From Earth: ZGAC Arts Capsule For ET</td>\n",
       "      <td>Narrative Film</td>\n",
       "      <td>Film &amp; Video</td>\n",
       "      <td>USD</td>\n",
       "      <td>2017-11-01</td>\n",
       "      <td>2017-09-02 04:43:57</td>\n",
       "      <td>False</td>\n",
       "      <td>15</td>\n",
       "      <td>US</td>\n",
       "      <td>2421.0</td>\n",
       "      <td>30000.0</td>\n",
       "      <td>59</td>\n",
       "      <td>8.070000</td>\n",
       "    </tr>\n",
       "    <tr>\n",
       "      <th>2</th>\n",
       "      <td>Where is Hank?</td>\n",
       "      <td>Narrative Film</td>\n",
       "      <td>Film &amp; Video</td>\n",
       "      <td>USD</td>\n",
       "      <td>2013-02-26</td>\n",
       "      <td>2013-01-12 00:20:50</td>\n",
       "      <td>False</td>\n",
       "      <td>3</td>\n",
       "      <td>US</td>\n",
       "      <td>220.0</td>\n",
       "      <td>45000.0</td>\n",
       "      <td>44</td>\n",
       "      <td>0.488889</td>\n",
       "    </tr>\n",
       "    <tr>\n",
       "      <th>3</th>\n",
       "      <td>ToshiCapital Rekordz Needs Help to Complete Album</td>\n",
       "      <td>Music</td>\n",
       "      <td>Music</td>\n",
       "      <td>USD</td>\n",
       "      <td>2012-04-16</td>\n",
       "      <td>2012-03-17 03:24:11</td>\n",
       "      <td>False</td>\n",
       "      <td>1</td>\n",
       "      <td>US</td>\n",
       "      <td>1.0</td>\n",
       "      <td>5000.0</td>\n",
       "      <td>29</td>\n",
       "      <td>0.020000</td>\n",
       "    </tr>\n",
       "    <tr>\n",
       "      <th>4</th>\n",
       "      <td>Community Film Project: The Art of Neighborhoo...</td>\n",
       "      <td>Film &amp; Video</td>\n",
       "      <td>Film &amp; Video</td>\n",
       "      <td>USD</td>\n",
       "      <td>2015-08-29</td>\n",
       "      <td>2015-07-04 08:35:03</td>\n",
       "      <td>False</td>\n",
       "      <td>14</td>\n",
       "      <td>US</td>\n",
       "      <td>1283.0</td>\n",
       "      <td>19500.0</td>\n",
       "      <td>55</td>\n",
       "      <td>6.579487</td>\n",
       "    </tr>\n",
       "    <tr>\n",
       "      <th>5</th>\n",
       "      <td>Monarch Espresso Bar</td>\n",
       "      <td>Restaurants</td>\n",
       "      <td>Food</td>\n",
       "      <td>USD</td>\n",
       "      <td>2016-04-01</td>\n",
       "      <td>2016-02-26 13:38:27</td>\n",
       "      <td>True</td>\n",
       "      <td>224</td>\n",
       "      <td>US</td>\n",
       "      <td>52375.0</td>\n",
       "      <td>50000.0</td>\n",
       "      <td>34</td>\n",
       "      <td>104.750000</td>\n",
       "    </tr>\n",
       "  </tbody>\n",
       "</table>\n",
       "</div>"
      ],
      "text/plain": [
       "                                                name        category  \\\n",
       "1      Greeting From Earth: ZGAC Arts Capsule For ET  Narrative Film   \n",
       "2                                     Where is Hank?  Narrative Film   \n",
       "3  ToshiCapital Rekordz Needs Help to Complete Album           Music   \n",
       "4  Community Film Project: The Art of Neighborhoo...    Film & Video   \n",
       "5                               Monarch Espresso Bar     Restaurants   \n",
       "\n",
       "  main_category currency   deadline            launched  state  backers  \\\n",
       "1  Film & Video      USD 2017-11-01 2017-09-02 04:43:57  False       15   \n",
       "2  Film & Video      USD 2013-02-26 2013-01-12 00:20:50  False        3   \n",
       "3         Music      USD 2012-04-16 2012-03-17 03:24:11  False        1   \n",
       "4  Film & Video      USD 2015-08-29 2015-07-04 08:35:03  False       14   \n",
       "5          Food      USD 2016-04-01 2016-02-26 13:38:27   True      224   \n",
       "\n",
       "  country  usd_pledged_real  usd_goal_real  duration_in_days  percent_pledged  \n",
       "1      US            2421.0        30000.0                59         8.070000  \n",
       "2      US             220.0        45000.0                44         0.488889  \n",
       "3      US               1.0         5000.0                29         0.020000  \n",
       "4      US            1283.0        19500.0                55         6.579487  \n",
       "5      US           52375.0        50000.0                34       104.750000  "
      ]
     },
     "execution_count": 170,
     "metadata": {},
     "output_type": "execute_result"
    }
   ],
   "source": [
    "df_success.head()"
   ]
  },
  {
   "cell_type": "code",
   "execution_count": 171,
   "id": "82487041",
   "metadata": {},
   "outputs": [
    {
     "data": {
      "text/plain": [
       "main_category\n",
       "Art             0.425620\n",
       "Comics          0.540965\n",
       "Crafts          0.246691\n",
       "Dance           0.646840\n",
       "Design          0.354126\n",
       "Fashion         0.248432\n",
       "Film & Video    0.380995\n",
       "Food            0.268291\n",
       "Games           0.379769\n",
       "Journalism      0.225424\n",
       "Music           0.502290\n",
       "Photography     0.318102\n",
       "Publishing      0.314096\n",
       "Technology      0.219104\n",
       "Theater         0.599495\n",
       "Name: state, dtype: float64"
      ]
     },
     "execution_count": 171,
     "metadata": {},
     "output_type": "execute_result"
    }
   ],
   "source": [
    "df_success.groupby('main_category').state.mean()"
   ]
  },
  {
   "cell_type": "code",
   "execution_count": null,
   "id": "712c3aca",
   "metadata": {},
   "outputs": [],
   "source": [
    "#If you have time left, look at the corr with the newly created variables\n",
    "#(e.g. backers and success rate)"
   ]
  },
  {
   "cell_type": "code",
   "execution_count": 175,
   "id": "1355b233",
   "metadata": {},
   "outputs": [
    {
     "data": {
      "text/html": [
       "<div>\n",
       "<style scoped>\n",
       "    .dataframe tbody tr th:only-of-type {\n",
       "        vertical-align: middle;\n",
       "    }\n",
       "\n",
       "    .dataframe tbody tr th {\n",
       "        vertical-align: top;\n",
       "    }\n",
       "\n",
       "    .dataframe thead th {\n",
       "        text-align: right;\n",
       "    }\n",
       "</style>\n",
       "<table border=\"1\" class=\"dataframe\">\n",
       "  <thead>\n",
       "    <tr style=\"text-align: right;\">\n",
       "      <th></th>\n",
       "      <th>name</th>\n",
       "      <th>category</th>\n",
       "      <th>main_category</th>\n",
       "      <th>currency</th>\n",
       "      <th>deadline</th>\n",
       "      <th>launched</th>\n",
       "      <th>state</th>\n",
       "      <th>backers</th>\n",
       "      <th>country</th>\n",
       "      <th>usd_pledged_real</th>\n",
       "      <th>usd_goal_real</th>\n",
       "      <th>duration_in_days</th>\n",
       "      <th>percent_pledged</th>\n",
       "    </tr>\n",
       "  </thead>\n",
       "  <tbody>\n",
       "    <tr>\n",
       "      <th>5</th>\n",
       "      <td>Monarch Espresso Bar</td>\n",
       "      <td>Restaurants</td>\n",
       "      <td>Food</td>\n",
       "      <td>USD</td>\n",
       "      <td>2016-04-01</td>\n",
       "      <td>2016-02-26 13:38:27</td>\n",
       "      <td>True</td>\n",
       "      <td>224</td>\n",
       "      <td>US</td>\n",
       "      <td>52375.00</td>\n",
       "      <td>50000.0</td>\n",
       "      <td>34</td>\n",
       "      <td>104.750000</td>\n",
       "    </tr>\n",
       "    <tr>\n",
       "      <th>6</th>\n",
       "      <td>Support Solar Roasted Coffee &amp; Green Energy!  ...</td>\n",
       "      <td>Food</td>\n",
       "      <td>Food</td>\n",
       "      <td>USD</td>\n",
       "      <td>2014-12-21</td>\n",
       "      <td>2014-12-01 18:30:44</td>\n",
       "      <td>True</td>\n",
       "      <td>16</td>\n",
       "      <td>US</td>\n",
       "      <td>1205.00</td>\n",
       "      <td>1000.0</td>\n",
       "      <td>19</td>\n",
       "      <td>120.500000</td>\n",
       "    </tr>\n",
       "    <tr>\n",
       "      <th>11</th>\n",
       "      <td>Lisa Lim New CD!</td>\n",
       "      <td>Indie Rock</td>\n",
       "      <td>Music</td>\n",
       "      <td>USD</td>\n",
       "      <td>2013-04-08</td>\n",
       "      <td>2013-03-09 06:42:58</td>\n",
       "      <td>True</td>\n",
       "      <td>100</td>\n",
       "      <td>US</td>\n",
       "      <td>12700.00</td>\n",
       "      <td>12500.0</td>\n",
       "      <td>29</td>\n",
       "      <td>101.600000</td>\n",
       "    </tr>\n",
       "    <tr>\n",
       "      <th>18</th>\n",
       "      <td>Mike Corey's Darkness &amp; Light Album</td>\n",
       "      <td>Music</td>\n",
       "      <td>Music</td>\n",
       "      <td>USD</td>\n",
       "      <td>2012-08-17</td>\n",
       "      <td>2012-08-02 14:11:32</td>\n",
       "      <td>True</td>\n",
       "      <td>7</td>\n",
       "      <td>US</td>\n",
       "      <td>250.00</td>\n",
       "      <td>250.0</td>\n",
       "      <td>14</td>\n",
       "      <td>100.000000</td>\n",
       "    </tr>\n",
       "    <tr>\n",
       "      <th>20</th>\n",
       "      <td>CMUK. Shoes: Take on Life Feet First.</td>\n",
       "      <td>Fashion</td>\n",
       "      <td>Fashion</td>\n",
       "      <td>USD</td>\n",
       "      <td>2013-12-30</td>\n",
       "      <td>2013-11-25 07:06:11</td>\n",
       "      <td>True</td>\n",
       "      <td>624</td>\n",
       "      <td>US</td>\n",
       "      <td>34268.00</td>\n",
       "      <td>20000.0</td>\n",
       "      <td>34</td>\n",
       "      <td>171.340000</td>\n",
       "    </tr>\n",
       "    <tr>\n",
       "      <th>...</th>\n",
       "      <td>...</td>\n",
       "      <td>...</td>\n",
       "      <td>...</td>\n",
       "      <td>...</td>\n",
       "      <td>...</td>\n",
       "      <td>...</td>\n",
       "      <td>...</td>\n",
       "      <td>...</td>\n",
       "      <td>...</td>\n",
       "      <td>...</td>\n",
       "      <td>...</td>\n",
       "      <td>...</td>\n",
       "      <td>...</td>\n",
       "    </tr>\n",
       "    <tr>\n",
       "      <th>378631</th>\n",
       "      <td>MONSTROCARDS- A Creative Drawing Game of Horri...</td>\n",
       "      <td>Playing Cards</td>\n",
       "      <td>Games</td>\n",
       "      <td>USD</td>\n",
       "      <td>2014-10-03</td>\n",
       "      <td>2014-09-03 19:53:50</td>\n",
       "      <td>True</td>\n",
       "      <td>413</td>\n",
       "      <td>US</td>\n",
       "      <td>13861.50</td>\n",
       "      <td>10000.0</td>\n",
       "      <td>29</td>\n",
       "      <td>138.615000</td>\n",
       "    </tr>\n",
       "    <tr>\n",
       "      <th>378637</th>\n",
       "      <td>Ways to Look at the Moon</td>\n",
       "      <td>Shorts</td>\n",
       "      <td>Film &amp; Video</td>\n",
       "      <td>USD</td>\n",
       "      <td>2017-10-13</td>\n",
       "      <td>2017-08-29 06:57:28</td>\n",
       "      <td>True</td>\n",
       "      <td>123</td>\n",
       "      <td>US</td>\n",
       "      <td>10245.00</td>\n",
       "      <td>10000.0</td>\n",
       "      <td>44</td>\n",
       "      <td>102.450000</td>\n",
       "    </tr>\n",
       "    <tr>\n",
       "      <th>378639</th>\n",
       "      <td>Superette Tea - Boldly Caffeinated Loose Leaf Tea</td>\n",
       "      <td>Drinks</td>\n",
       "      <td>Food</td>\n",
       "      <td>USD</td>\n",
       "      <td>2015-12-03</td>\n",
       "      <td>2015-11-03 13:04:14</td>\n",
       "      <td>True</td>\n",
       "      <td>103</td>\n",
       "      <td>US</td>\n",
       "      <td>5579.00</td>\n",
       "      <td>5000.0</td>\n",
       "      <td>29</td>\n",
       "      <td>111.580000</td>\n",
       "    </tr>\n",
       "    <tr>\n",
       "      <th>378644</th>\n",
       "      <td>The Manual Bar Blade</td>\n",
       "      <td>Product Design</td>\n",
       "      <td>Design</td>\n",
       "      <td>USD</td>\n",
       "      <td>2015-12-15</td>\n",
       "      <td>2015-11-23 07:33:14</td>\n",
       "      <td>True</td>\n",
       "      <td>120</td>\n",
       "      <td>US</td>\n",
       "      <td>6169.00</td>\n",
       "      <td>3500.0</td>\n",
       "      <td>21</td>\n",
       "      <td>176.257143</td>\n",
       "    </tr>\n",
       "    <tr>\n",
       "      <th>378646</th>\n",
       "      <td>The Dog Coffee Book</td>\n",
       "      <td>Children's Books</td>\n",
       "      <td>Publishing</td>\n",
       "      <td>USD</td>\n",
       "      <td>2013-11-30</td>\n",
       "      <td>2013-10-18 21:35:04</td>\n",
       "      <td>True</td>\n",
       "      <td>31</td>\n",
       "      <td>US</td>\n",
       "      <td>1732.02</td>\n",
       "      <td>950.0</td>\n",
       "      <td>42</td>\n",
       "      <td>182.317895</td>\n",
       "    </tr>\n",
       "  </tbody>\n",
       "</table>\n",
       "<p>109299 rows × 13 columns</p>\n",
       "</div>"
      ],
      "text/plain": [
       "                                                     name          category  \\\n",
       "5                                    Monarch Espresso Bar       Restaurants   \n",
       "6       Support Solar Roasted Coffee & Green Energy!  ...              Food   \n",
       "11                                       Lisa Lim New CD!        Indie Rock   \n",
       "18                    Mike Corey's Darkness & Light Album             Music   \n",
       "20                  CMUK. Shoes: Take on Life Feet First.           Fashion   \n",
       "...                                                   ...               ...   \n",
       "378631  MONSTROCARDS- A Creative Drawing Game of Horri...     Playing Cards   \n",
       "378637                           Ways to Look at the Moon            Shorts   \n",
       "378639  Superette Tea - Boldly Caffeinated Loose Leaf Tea            Drinks   \n",
       "378644                               The Manual Bar Blade    Product Design   \n",
       "378646                                The Dog Coffee Book  Children's Books   \n",
       "\n",
       "       main_category currency   deadline            launched  state  backers  \\\n",
       "5               Food      USD 2016-04-01 2016-02-26 13:38:27   True      224   \n",
       "6               Food      USD 2014-12-21 2014-12-01 18:30:44   True       16   \n",
       "11             Music      USD 2013-04-08 2013-03-09 06:42:58   True      100   \n",
       "18             Music      USD 2012-08-17 2012-08-02 14:11:32   True        7   \n",
       "20           Fashion      USD 2013-12-30 2013-11-25 07:06:11   True      624   \n",
       "...              ...      ...        ...                 ...    ...      ...   \n",
       "378631         Games      USD 2014-10-03 2014-09-03 19:53:50   True      413   \n",
       "378637  Film & Video      USD 2017-10-13 2017-08-29 06:57:28   True      123   \n",
       "378639          Food      USD 2015-12-03 2015-11-03 13:04:14   True      103   \n",
       "378644        Design      USD 2015-12-15 2015-11-23 07:33:14   True      120   \n",
       "378646    Publishing      USD 2013-11-30 2013-10-18 21:35:04   True       31   \n",
       "\n",
       "       country  usd_pledged_real  usd_goal_real  duration_in_days  \\\n",
       "5           US          52375.00        50000.0                34   \n",
       "6           US           1205.00         1000.0                19   \n",
       "11          US          12700.00        12500.0                29   \n",
       "18          US            250.00          250.0                14   \n",
       "20          US          34268.00        20000.0                34   \n",
       "...        ...               ...            ...               ...   \n",
       "378631      US          13861.50        10000.0                29   \n",
       "378637      US          10245.00        10000.0                44   \n",
       "378639      US           5579.00         5000.0                29   \n",
       "378644      US           6169.00         3500.0                21   \n",
       "378646      US           1732.02          950.0                42   \n",
       "\n",
       "        percent_pledged  \n",
       "5            104.750000  \n",
       "6            120.500000  \n",
       "11           101.600000  \n",
       "18           100.000000  \n",
       "20           171.340000  \n",
       "...                 ...  \n",
       "378631       138.615000  \n",
       "378637       102.450000  \n",
       "378639       111.580000  \n",
       "378644       176.257143  \n",
       "378646       182.317895  \n",
       "\n",
       "[109299 rows x 13 columns]"
      ]
     },
     "execution_count": 175,
     "metadata": {},
     "output_type": "execute_result"
    }
   ],
   "source": [
    "df_success[df_success['state']==True]"
   ]
  },
  {
   "cell_type": "markdown",
   "id": "aedcb7c2",
   "metadata": {},
   "source": [
    "# EDA7"
   ]
  },
  {
   "cell_type": "code",
   "execution_count": 197,
   "id": "f68c7e5e",
   "metadata": {
    "scrolled": false
   },
   "outputs": [
    {
     "data": {
      "text/plain": [
       "main_category\n",
       "Art             0.425620\n",
       "Comics          0.540965\n",
       "Crafts          0.246691\n",
       "Dance           0.646840\n",
       "Design          0.354126\n",
       "Fashion         0.248432\n",
       "Film & Video    0.380995\n",
       "Food            0.268291\n",
       "Games           0.379769\n",
       "Journalism      0.225424\n",
       "Music           0.502290\n",
       "Photography     0.318102\n",
       "Publishing      0.314096\n",
       "Technology      0.219104\n",
       "Theater         0.599495\n",
       "Name: state, dtype: float64"
      ]
     },
     "execution_count": 197,
     "metadata": {},
     "output_type": "execute_result"
    }
   ],
   "source": [
    "success_rate=df_success.groupby('main_category').state.mean()\n",
    "success_rate"
   ]
  },
  {
   "cell_type": "code",
   "execution_count": 201,
   "id": "9cefdb12",
   "metadata": {
    "scrolled": true
   },
   "outputs": [
    {
     "data": {
      "text/plain": [
       "main_category\n",
       "Art              9496\n",
       "Comics           4820\n",
       "Crafts           1640\n",
       "Dance            2088\n",
       "Design           7681\n",
       "Fashion          4120\n",
       "Film & Video    19782\n",
       "Food             5350\n",
       "Games            9356\n",
       "Journalism        798\n",
       "Music           21718\n",
       "Photography      2541\n",
       "Publishing       9965\n",
       "Technology       4723\n",
       "Theater          5221\n",
       "Name: backers, dtype: int64"
      ]
     },
     "execution_count": 201,
     "metadata": {},
     "output_type": "execute_result"
    }
   ],
   "source": [
    "backers_count_success=df_success[df_success['state']==True].groupby('main_category').backers.count()\n",
    "backers_count_success"
   ]
  },
  {
   "cell_type": "code",
   "execution_count": null,
   "id": "c1c2ba53",
   "metadata": {},
   "outputs": [],
   "source": []
  },
  {
   "cell_type": "code",
   "execution_count": 207,
   "id": "8c00525d",
   "metadata": {
    "scrolled": true
   },
   "outputs": [
    {
     "data": {
      "text/plain": [
       "0.2125956330430817"
      ]
     },
     "execution_count": 207,
     "metadata": {},
     "output_type": "execute_result"
    }
   ],
   "source": [
    "import scipy as sc\n",
    "from scipy import stats\n",
    "pearson_coef2,p_value2=stats.pearsonr(success_rate.values,backers_count_success.values)\n",
    "pearson_coef2\n"
   ]
  },
  {
   "cell_type": "code",
   "execution_count": 208,
   "id": "2ff10775",
   "metadata": {
    "scrolled": true
   },
   "outputs": [
    {
     "data": {
      "text/plain": [
       "0.4468315649554627"
      ]
     },
     "execution_count": 208,
     "metadata": {},
     "output_type": "execute_result"
    }
   ],
   "source": [
    "p_value2"
   ]
  },
  {
   "cell_type": "markdown",
   "id": "42931eee",
   "metadata": {},
   "source": [
    "# "
   ]
  }
 ],
 "metadata": {
  "kernelspec": {
   "display_name": "Python 3",
   "language": "python",
   "name": "python3"
  },
  "language_info": {
   "codemirror_mode": {
    "name": "ipython",
    "version": 3
   },
   "file_extension": ".py",
   "mimetype": "text/x-python",
   "name": "python",
   "nbconvert_exporter": "python",
   "pygments_lexer": "ipython3",
   "version": "3.8.8"
  }
 },
 "nbformat": 4,
 "nbformat_minor": 5
}
